{
 "cells": [
  {
   "cell_type": "code",
   "execution_count": 7,
   "metadata": {},
   "outputs": [
    {
     "name": "stderr",
     "output_type": "stream",
     "text": [
      "Using TensorFlow backend.\n"
     ]
    }
   ],
   "source": [
    "import pandas as pd\n",
    "import numpy as np \n",
    "import time \n",
    "from keras.models import load_model\n",
    "\n",
    "test_file = 'data/pems_test.csv'\n",
    "df = pd.read_csv(test_file, encoding='utf-8').fillna(0)\n",
    "df = np.array(df)\n",
    "lstm = load_model(\"TrafficPrediction/lstm_model.h5\")\n",
    "scale_ = 0.005076142131979695"
   ]
  },
  {
   "cell_type": "code",
   "execution_count": 17,
   "metadata": {},
   "outputs": [
    {
     "name": "stdout",
     "output_type": "stream",
     "text": [
      "[16 10 11 11 6 13 7 2 6 7 4 7]\n",
      "Predictions : [[0.]]\n",
      "[10 11 11 6 13 7 2 6 7 4 7 12]\n",
      "Predictions : [[1.715934]]\n",
      "[11 11 6 13 7 2 6 7 4 7 12 5]\n",
      "Predictions : [[1.3144711]]\n",
      "[11 6 13 7 2 6 7 4 7 12 5 10]\n",
      "Predictions : [[2.4078324]]\n",
      "[6 13 7 2 6 7 4 7 12 5 10 10]\n",
      "Predictions : [[3.569515]]\n",
      "[13 7 2 6 7 4 7 12 5 10 10 1]\n",
      "Predictions : [[0.49793613]]\n",
      "[7 2 6 7 4 7 12 5 10 10 1 6]\n",
      "Predictions : [[0.]]\n",
      "[2 6 7 4 7 12 5 10 10 1 6 6]\n",
      "Predictions : [[0.]]\n",
      "[6 7 4 7 12 5 10 10 1 6 6 5]\n",
      "Predictions : [[0.]]\n",
      "[7 4 7 12 5 10 10 1 6 6 5 3]\n",
      "Predictions : [[0.]]\n",
      "[4 7 12 5 10 10 1 6 6 5 3 3]\n",
      "Predictions : [[0.]]\n",
      "[7 12 5 10 10 1 6 6 5 3 3 7]\n",
      "Predictions : [[0.]]\n",
      "[12 5 10 10 1 6 6 5 3 3 7 5]\n",
      "Predictions : [[0.]]\n",
      "[5 10 10 1 6 6 5 3 3 7 5 2]\n",
      "Predictions : [[0.]]\n",
      "[10 10 1 6 6 5 3 3 7 5 2 1]\n",
      "Predictions : [[0.]]\n",
      "[10 1 6 6 5 3 3 7 5 2 1 1]\n",
      "Predictions : [[0.]]\n",
      "[1 6 6 5 3 3 7 5 2 1 1 4]\n",
      "Predictions : [[0.]]\n"
     ]
    },
    {
     "ename": "KeyboardInterrupt",
     "evalue": "",
     "output_type": "error",
     "traceback": [
      "\u001b[0;31m---------------------------------------------------------------------------\u001b[0m",
      "\u001b[0;31mKeyboardInterrupt\u001b[0m                         Traceback (most recent call last)",
      "\u001b[0;32m<ipython-input-17-6c0e6e7ac622>\u001b[0m in \u001b[0;36m<module>\u001b[0;34m()\u001b[0m\n\u001b[1;32m     17\u001b[0m     \u001b[0mprint\u001b[0m\u001b[0;34m(\u001b[0m\u001b[0;34m\"Predictions : {}\"\u001b[0m\u001b[0;34m.\u001b[0m\u001b[0mformat\u001b[0m\u001b[0;34m(\u001b[0m\u001b[0mpreds\u001b[0m\u001b[0;34m)\u001b[0m\u001b[0;34m)\u001b[0m\u001b[0;34m\u001b[0m\u001b[0m\n\u001b[1;32m     18\u001b[0m \u001b[0;34m\u001b[0m\u001b[0m\n\u001b[0;32m---> 19\u001b[0;31m     \u001b[0mtime\u001b[0m\u001b[0;34m.\u001b[0m\u001b[0msleep\u001b[0m\u001b[0;34m(\u001b[0m\u001b[0;36m3\u001b[0m\u001b[0;34m)\u001b[0m\u001b[0;34m\u001b[0m\u001b[0m\n\u001b[0m",
      "\u001b[0;31mKeyboardInterrupt\u001b[0m: "
     ]
    }
   ],
   "source": [
    "n = df.shape[0]\n",
    "lag = 12\n",
    "for i in range(0, n):\n",
    "    data = df[i:i+lag]\n",
    "    flows = data[:, 1]\n",
    "    print(flows)\n",
    "    # Transform the data for prediction\n",
    "    flows = np.asarray(flows)\n",
    "    flows = np.multiply(flows, scale_)\n",
    "    flows = np.reshape(flows, (1, lag, 1))\n",
    "\n",
    "    # Make the prediction\n",
    "    preds = lstm.predict(flows)\n",
    "    \n",
    "    # Inverse transform\n",
    "    preds = np.divide(preds, scale_)\n",
    "    print(\"Predictions : {}\".format(preds))\n",
    "    \n",
    "    time.sleep(0.25)"
   ]
  },
  {
   "cell_type": "code",
   "execution_count": null,
   "metadata": {},
   "outputs": [],
   "source": []
  }
 ],
 "metadata": {
  "kernelspec": {
   "display_name": "Python 3",
   "language": "python",
   "name": "python3"
  },
  "language_info": {
   "codemirror_mode": {
    "name": "ipython",
    "version": 3
   },
   "file_extension": ".py",
   "mimetype": "text/x-python",
   "name": "python",
   "nbconvert_exporter": "python",
   "pygments_lexer": "ipython3",
   "version": "3.6.5"
  }
 },
 "nbformat": 4,
 "nbformat_minor": 2
}

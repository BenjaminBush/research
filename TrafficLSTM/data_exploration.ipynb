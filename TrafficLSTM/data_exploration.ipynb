{
 "cells": [
  {
   "cell_type": "code",
   "execution_count": 49,
   "metadata": {
    "ExecuteTime": {
     "end_time": "2018-07-28T15:49:57.924660Z",
     "start_time": "2018-07-28T15:49:57.150405Z"
    }
   },
   "outputs": [],
   "source": [
    "import pandas as pd\n",
    "import numpy as np\n",
    "import os\n",
    "from sklearn.model_selection import train_test_split\n",
    "\n",
    "sheet_name = 'Report Data'\n",
    "features = {\n",
    "    'time' : '5 Minutes',\n",
    "    'flow' : 'Flow (Veh/5 Minutes)',\n",
    "    'speed' : 'Speed (mph)'\n",
    "}\n",
    "cols = [features[x] for x in features]\n",
    "num_parts = 4\n",
    "\n",
    "\n",
    "for i in range(0, num_parts):\n",
    "    file_in = '../data/pems_output_' + str(i) + '.xlsx'\n",
    "    file_out = '../data/pems_' + str(i) + '.csv'\n",
    "    df = pd.read_excel(file_in, sheet_name)\n",
    "    dataset = df[cols]\n",
    "    dataset.to_csv(file_out, index=False)"
   ]
  },
  {
   "cell_type": "code",
   "execution_count": 50,
   "metadata": {
    "ExecuteTime": {
     "end_time": "2018-07-28T15:49:57.946484Z",
     "start_time": "2018-07-28T15:49:57.925652Z"
    }
   },
   "outputs": [
    {
     "name": "stdout",
     "output_type": "stream",
     "text": [
      "        5 Minutes  Speed (mph)  Flow (Veh/5 Minutes)\n",
      "0  3/01/2018 0:00         68.3                    87\n",
      "        5 Minutes  Speed (mph)  Flow (Veh/5 Minutes)\n",
      "0  3/08/2018 0:00         68.5                   129\n",
      "        5 Minutes  Speed (mph)  Flow (Veh/5 Minutes)\n",
      "0  3/15/2018 0:00         68.7                    91\n",
      "        5 Minutes  Speed (mph)  Flow (Veh/5 Minutes)\n",
      "0  3/22/2018 0:00         68.6                    93\n"
     ]
    }
   ],
   "source": [
    "for i in range(num_parts):\n",
    "    df = pd.read_csv('../data/pems_' + str(i) + '.csv')\n",
    "    print(df.head(1))"
   ]
  },
  {
   "cell_type": "code",
   "execution_count": 55,
   "metadata": {
    "ExecuteTime": {
     "end_time": "2018-07-28T15:53:33.024691Z",
     "start_time": "2018-07-28T15:53:32.955748Z"
    }
   },
   "outputs": [
    {
     "data": {
      "image/png": "[encoded data removed]",
      "text/plain": [
       "<Figure size 432x288 with 1 Axes>"
      ]
     },
     "metadata": {},
     "output_type": "display_data"
    }
   ],
   "source": [
    "import matplotlib.pyplot as plt\n",
    "df = pd.read_csv('../data/pems_0.csv')\n",
    "plt.scatter(df[features['flow']], df[features['speed']])\n",
    "plt.show()"
   ]
  },
  {
   "cell_type": "code",
   "execution_count": 60,
   "metadata": {
    "ExecuteTime": {
     "end_time": "2018-07-28T16:03:10.708173Z",
     "start_time": "2018-07-28T16:03:10.702221Z"
    }
   },
   "outputs": [
    {
     "name": "stdout",
     "output_type": "stream",
     "text": [
      "1622\n",
      "406\n",
      "        5 Minutes  Speed (mph)  Flow (Veh/5 Minutes)\n",
      "0  3/01/2018 0:00         68.3                    87\n"
     ]
    }
   ],
   "source": [
    "train, test = train_test_split(df, test_size=0.2, shuffle=False)\n"
   ]
  },
  {
   "cell_type": "code",
   "execution_count": 76,
   "metadata": {
    "ExecuteTime": {
     "end_time": "2018-07-28T16:11:30.230095Z",
     "start_time": "2018-07-28T16:11:29.936463Z"
    }
   },
   "outputs": [],
   "source": [
    "# Scale the flow, keep speed the same\n",
    "feature_range = (0,1)\n",
    "data_min = np.min(train[features['flow']], axis=0)\n",
    "data_max = np.max(train[features['flow']], axis=0)\n",
    "data_range = data_max - data_min\n",
    "\n",
    "scale_ = ((feature_range[1] - feature_range[0])/data_range)\n",
    "min_ = feature_range[0]-data_min*scale_\n",
    "\n",
    "flow_train = train[features['flow']]\n",
    "flow_train *= scale_\n",
    "flow_train += min_\n",
    "\n",
    "flow_test = test[features['flow']]\n",
    "flow_test *= scale_\n",
    "flow_test += min_\n",
    "\n",
    "train_list, test_list = [], []\n",
    "lag = 12\n",
    "\n",
    "for i in range(lag, len(flow_train)-1):\n",
    "    xi_flow = flow_train[i-lag:i+1]\n",
    "    xi_speed = train[features['speed']][i-lag:i+1]\n",
    "    train_list.append((xi_flow, xi_speed))\n",
    "for i in range(lag, len(flow_test)-1):\n",
    "    xi_flow = flow_test[i-lag:i+1]\n",
    "    xi_speed = test[features['speed']][i-lag:i+1]\n",
    "    test_list.append((xi_flow, xi_speed))\n",
    "\n",
    "train_list = np.asarray(train_list)\n",
    "test_list = np.asarray(test_list)\n",
    "\n",
    "X_train = train_list[:, :, :-1]\n",
    "y_train = train_list[:, :, -1]\n",
    "X_test = test_list[:, :, :-1]\n",
    "y_test = test_list[:, :, -1]\n",
    "\n",
    "scaler = (scale_, min_)"
   ]
  },
  {
   "cell_type": "code",
   "execution_count": 79,
   "metadata": {
    "ExecuteTime": {
     "end_time": "2018-07-28T16:11:47.572216Z",
     "start_time": "2018-07-28T16:11:47.569240Z"
    }
   },
   "outputs": [
    {
     "name": "stdout",
     "output_type": "stream",
     "text": [
      "(1609, 2, 12)\n",
      "[[3.94736842e-02 5.42763158e-02 2.13815789e-02 5.75657895e-02\n",
      "  4.60526316e-02 5.26315789e-02 7.07236842e-02 3.78289474e-02\n",
      "  4.76973684e-02 6.57894737e-03 1.00328947e-01 6.25000000e-02]\n",
      " [6.84000000e+01 6.88000000e+01 6.86000000e+01 6.92000000e+01\n",
      "  6.87000000e+01 6.85000000e+01 6.87000000e+01 6.59000000e+01\n",
      "  6.66000000e+01 6.76000000e+01 6.90000000e+01 6.70000000e+01]]\n"
     ]
    }
   ],
   "source": [
    "print(X_train.shape)\n",
    "print(X_train[15])"
   ]
  },
  {
   "cell_type": "code",
   "execution_count": null,
   "metadata": {},
   "outputs": [],
   "source": []
  }
 ],
 "metadata": {
  "kernelspec": {
   "display_name": "Python 3",
   "language": "python",
   "name": "python3"
  },
  "language_info": {
   "codemirror_mode": {
    "name": "ipython",
    "version": 3
   },
   "file_extension": ".py",
   "mimetype": "text/x-python",
   "name": "python",
   "nbconvert_exporter": "python",
   "pygments_lexer": "ipython3",
   "version": "3.5.5"
  }
 },
 "nbformat": 4,
 "nbformat_minor": 2
}

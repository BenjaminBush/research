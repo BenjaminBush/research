{
 "cells": [
  {
   "cell_type": "code",
   "execution_count": 1,
   "metadata": {
    "ExecuteTime": {
     "end_time": "2018-07-28T20:47:46.632523Z",
     "start_time": "2018-07-28T20:47:45.314158Z"
    }
   },
   "outputs": [],
   "source": [
    "import pandas as pd\n",
    "import numpy as np\n",
    "import os\n",
    "from sklearn.model_selection import train_test_split\n",
    "\n",
    "sheet_name = 'Report Data'\n",
    "features = {\n",
    "    'time' : '5 Minutes',\n",
    "    'flow' : 'Flow (Veh/5 Minutes)',\n",
    "    'speed' : 'Speed (mph)'\n",
    "}\n",
    "cols = [features[x] for x in features]\n",
    "num_parts = 4\n",
    "\n",
    "\n",
    "for i in range(0, num_parts):\n",
    "    file_in = '../data/pems_output_' + str(i) + '.xlsx'\n",
    "    file_out = '../data/pems_' + str(i) + '.csv'\n",
    "    df = pd.read_excel(file_in, sheet_name)\n",
    "    dataset = df[cols]\n",
    "    dataset.to_csv(file_out, index=False)"
   ]
  },
  {
   "cell_type": "code",
   "execution_count": 2,
   "metadata": {
    "ExecuteTime": {
     "end_time": "2018-07-28T20:47:46.657819Z",
     "start_time": "2018-07-28T20:47:46.633515Z"
    }
   },
   "outputs": [
    {
     "name": "stdout",
     "output_type": "stream",
     "text": [
      "   Flow (Veh/5 Minutes)       5 Minutes  Speed (mph)\n",
      "0                    87  3/01/2018 0:00         68.3\n",
      "   Flow (Veh/5 Minutes)       5 Minutes  Speed (mph)\n",
      "0                   129  3/08/2018 0:00         68.5\n",
      "   Flow (Veh/5 Minutes)       5 Minutes  Speed (mph)\n",
      "0                    91  3/15/2018 0:00         68.7\n",
      "   Flow (Veh/5 Minutes)       5 Minutes  Speed (mph)\n",
      "0                    93  3/22/2018 0:00         68.6\n"
     ]
    }
   ],
   "source": [
    "for i in range(num_parts):\n",
    "    df = pd.read_csv('../data/pems_' + str(i) + '.csv')\n",
    "    print(df.head(1))"
   ]
  },
  {
   "cell_type": "code",
   "execution_count": 15,
   "metadata": {
    "ExecuteTime": {
     "end_time": "2018-07-28T20:53:35.873590Z",
     "start_time": "2018-07-28T20:53:35.799687Z"
    }
   },
   "outputs": [
    {
     "data": {
      "image/png": "[encoded data removed]",
      "text/plain": [
       "<Figure size 432x288 with 1 Axes>"
      ]
     },
     "metadata": {},
     "output_type": "display_data"
    }
   ],
   "source": [
    "import matplotlib.pyplot as plt\n",
    "df = pd.read_csv('../data/pems_0.csv')\n",
    "plt.scatter(df[features['flow']], df[features['speed']])\n",
    "plt.show()"
   ]
  },
  {
   "cell_type": "code",
   "execution_count": 4,
   "metadata": {
    "ExecuteTime": {
     "end_time": "2018-07-28T20:47:46.780331Z",
     "start_time": "2018-07-28T20:47:46.776859Z"
    }
   },
   "outputs": [],
   "source": [
    "train, test = train_test_split(df, test_size=0.2, shuffle=False)\n"
   ]
  },
  {
   "cell_type": "code",
   "execution_count": 5,
   "metadata": {
    "ExecuteTime": {
     "end_time": "2018-07-28T20:47:47.108682Z",
     "start_time": "2018-07-28T20:47:46.781323Z"
    }
   },
   "outputs": [
    {
     "name": "stdout",
     "output_type": "stream",
     "text": [
      "(0.001644736842105263, -0.05592105263157894)\n"
     ]
    }
   ],
   "source": [
    "# Scale the flow, keep speed the same\n",
    "feature_range = (0,1)\n",
    "data_min = np.min(train[features['flow']], axis=0)\n",
    "data_max = np.max(train[features['flow']], axis=0)\n",
    "data_range = data_max - data_min\n",
    "\n",
    "scale_ = ((feature_range[1] - feature_range[0])/data_range)\n",
    "min_ = feature_range[0]-data_min*scale_\n",
    "\n",
    "flow_train = train[features['flow']]\n",
    "flow_train *= scale_\n",
    "flow_train += min_\n",
    "\n",
    "flow_test = test[features['flow']]\n",
    "flow_test *= scale_\n",
    "flow_test += min_\n",
    "\n",
    "train_list, test_list = [], []\n",
    "lag = 12\n",
    "\n",
    "for i in range(lag, len(flow_train)-1):\n",
    "    xi_flow = flow_train[i-lag:i+1]\n",
    "    xi_speed = train[features['speed']][i-lag:i+1]\n",
    "    train_list.append((xi_flow, xi_speed))\n",
    "for i in range(lag, len(flow_test)-1):\n",
    "    xi_flow = flow_test[i-lag:i+1]\n",
    "    xi_speed = test[features['speed']][i-lag:i+1]\n",
    "    test_list.append((xi_flow, xi_speed))\n",
    "\n",
    "train_list = np.asarray(train_list)\n",
    "test_list = np.asarray(test_list)\n",
    "\n",
    "X_train = train_list[:, :, :-1]\n",
    "y_train = train_list[:, :, -1]\n",
    "X_test = test_list[:, :, :-1]\n",
    "y_test = test_list[:, :, -1]\n",
    "\n",
    "scaler = (scale_, min_)\n",
    "print(scaler)"
   ]
  },
  {
   "cell_type": "code",
   "execution_count": 6,
   "metadata": {
    "ExecuteTime": {
     "end_time": "2018-07-28T20:47:47.113146Z",
     "start_time": "2018-07-28T20:47:47.109674Z"
    }
   },
   "outputs": [
    {
     "name": "stdout",
     "output_type": "stream",
     "text": [
      "(1609, 2, 12)\n",
      "[[1.26644737e-01 8.05921053e-02 1.54605263e-01 1.06907895e-01\n",
      "  1.23355263e-01 6.08552632e-02 4.76973684e-02 4.60526316e-02\n",
      "  6.41447368e-02 2.79605263e-02 4.11184211e-02 3.78289474e-02]\n",
      " [6.87000000e+01 6.97000000e+01 6.99000000e+01 6.91000000e+01\n",
      "  6.76000000e+01 6.72000000e+01 6.90000000e+01 6.72000000e+01\n",
      "  6.81000000e+01 6.82000000e+01 6.87000000e+01 6.68000000e+01]]\n"
     ]
    }
   ],
   "source": [
    "print(X_train.shape)\n",
    "print(X_train[1])"
   ]
  },
  {
   "cell_type": "code",
   "execution_count": 7,
   "metadata": {
    "ExecuteTime": {
     "end_time": "2018-07-28T20:47:47.119098Z",
     "start_time": "2018-07-28T20:47:47.114635Z"
    }
   },
   "outputs": [],
   "source": [
    "X_train = np.reshape(X_train, (X_train.shape[0], X_train.shape[1]*X_train.shape[2], 1))\n",
    "X_test = np.reshape(X_test, (X_test.shape[0], X_test.shape[1]*X_test.shape[2], 1))"
   ]
  },
  {
   "cell_type": "code",
   "execution_count": 8,
   "metadata": {
    "ExecuteTime": {
     "end_time": "2018-07-28T20:47:48.675544Z",
     "start_time": "2018-07-28T20:47:47.120586Z"
    }
   },
   "outputs": [
    {
     "name": "stderr",
     "output_type": "stream",
     "text": [
      "Using TensorFlow backend.\n"
     ]
    },
    {
     "name": "stdout",
     "output_type": "stream",
     "text": [
      "_________________________________________________________________\n",
      "Layer (type)                 Output Shape              Param #   \n",
      "=================================================================\n",
      "lstm_1 (LSTM)                (None, 24, 256)           264192    \n",
      "_________________________________________________________________\n",
      "lstm_2 (LSTM)                (None, 256)               525312    \n",
      "_________________________________________________________________\n",
      "dropout_1 (Dropout)          (None, 256)               0         \n",
      "_________________________________________________________________\n",
      "dense_1 (Dense)              (None, 2)                 514       \n",
      "=================================================================\n",
      "Total params: 790,018\n",
      "Trainable params: 790,018\n",
      "Non-trainable params: 0\n",
      "_________________________________________________________________\n"
     ]
    }
   ],
   "source": [
    "import keras\n",
    "from keras.models import Sequential\n",
    "from keras.layers import Dense, Dropout, LSTM, Flatten\n",
    "\n",
    "model = Sequential()\n",
    "model.add(LSTM(256, input_shape=(24, 1), return_sequences=True, recurrent_initializer='glorot_uniform', kernel_initializer='glorot_uniform'))\n",
    "model.add(LSTM(256, recurrent_initializer='glorot_uniform', kernel_initializer='glorot_uniform'))\n",
    "model.add(Dropout(0.4))\n",
    "model.add(Dense(2, activation='relu', kernel_initializer='glorot_uniform'))\n",
    "model.compile(loss='mse', optimizer='rmsprop', metrics=['mape'])\n",
    "model.summary()\n"
   ]
  },
  {
   "cell_type": "code",
   "execution_count": 9,
   "metadata": {
    "ExecuteTime": {
     "end_time": "2018-07-28T20:52:59.737559Z",
     "start_time": "2018-07-28T20:47:48.676536Z"
    }
   },
   "outputs": [
    {
     "name": "stdout",
     "output_type": "stream",
     "text": [
      "Epoch 1/100\n",
      "1609/1609 [==============================] - 5s 3ms/step - loss: 722.7093 - mean_absolute_percentage_error: 106.6596\n",
      "Epoch 2/100\n",
      "1609/1609 [==============================] - 3s 2ms/step - loss: 325.1006 - mean_absolute_percentage_error: 82.1103\n",
      "Epoch 3/100\n",
      "1609/1609 [==============================] - 3s 2ms/step - loss: 142.4778 - mean_absolute_percentage_error: 74.4180\n",
      "Epoch 4/100\n",
      "1609/1609 [==============================] - 3s 2ms/step - loss: 34.9622 - mean_absolute_percentage_error: 120359.9203\n",
      "Epoch 5/100\n",
      "1609/1609 [==============================] - 3s 2ms/step - loss: 15.7957 - mean_absolute_percentage_error: 61.6264\n",
      "Epoch 6/100\n",
      "1609/1609 [==============================] - 3s 2ms/step - loss: 13.0147 - mean_absolute_percentage_error: 60.0704\n",
      "Epoch 7/100\n",
      "1609/1609 [==============================] - 3s 2ms/step - loss: 11.7938 - mean_absolute_percentage_error: 59.5625\n",
      "Epoch 8/100\n",
      "1609/1609 [==============================] - 3s 2ms/step - loss: 13.0961 - mean_absolute_percentage_error: 54.6674\n",
      "Epoch 9/100\n",
      "1609/1609 [==============================] - 3s 2ms/step - loss: 11.2955 - mean_absolute_percentage_error: 61.9084\n",
      "Epoch 10/100\n",
      "1609/1609 [==============================] - 3s 2ms/step - loss: 11.1681 - mean_absolute_percentage_error: 64.1983\n",
      "Epoch 11/100\n",
      "1609/1609 [==============================] - 3s 2ms/step - loss: 11.2037 - mean_absolute_percentage_error: 65.6140\n",
      "Epoch 12/100\n",
      "1609/1609 [==============================] - 3s 2ms/step - loss: 10.1456 - mean_absolute_percentage_error: 58909.8293\n",
      "Epoch 13/100\n",
      "1609/1609 [==============================] - 3s 2ms/step - loss: 10.5567 - mean_absolute_percentage_error: 62.4545\n",
      "Epoch 14/100\n",
      "1609/1609 [==============================] - 3s 2ms/step - loss: 9.9634 - mean_absolute_percentage_error: 67.3944\n",
      "Epoch 15/100\n",
      "1609/1609 [==============================] - 3s 2ms/step - loss: 10.2106 - mean_absolute_percentage_error: 1351.8412\n",
      "Epoch 16/100\n",
      "1609/1609 [==============================] - 3s 2ms/step - loss: 10.5288 - mean_absolute_percentage_error: 63.8853\n",
      "Epoch 17/100\n",
      "1609/1609 [==============================] - 3s 2ms/step - loss: 10.4703 - mean_absolute_percentage_error: 216851.0355\n",
      "Epoch 18/100\n",
      "1609/1609 [==============================] - 3s 2ms/step - loss: 10.1416 - mean_absolute_percentage_error: 70.8293\n",
      "Epoch 19/100\n",
      "1609/1609 [==============================] - 3s 2ms/step - loss: 9.9910 - mean_absolute_percentage_error: 65.2798\n",
      "Epoch 20/100\n",
      "1609/1609 [==============================] - 3s 2ms/step - loss: 9.6046 - mean_absolute_percentage_error: 66.0094\n",
      "Epoch 21/100\n",
      "1609/1609 [==============================] - 3s 2ms/step - loss: 10.0321 - mean_absolute_percentage_error: 10779.3181\n",
      "Epoch 22/100\n",
      "1609/1609 [==============================] - 3s 2ms/step - loss: 9.7273 - mean_absolute_percentage_error: 64.5604\n",
      "Epoch 23/100\n",
      "1609/1609 [==============================] - 3s 2ms/step - loss: 10.1782 - mean_absolute_percentage_error: 125866.7393\n",
      "Epoch 24/100\n",
      "1609/1609 [==============================] - 3s 2ms/step - loss: 10.0013 - mean_absolute_percentage_error: 93225.4736\n",
      "Epoch 25/100\n",
      "1609/1609 [==============================] - 3s 2ms/step - loss: 10.3017 - mean_absolute_percentage_error: 63.2872\n",
      "Epoch 26/100\n",
      "1609/1609 [==============================] - 3s 2ms/step - loss: 9.6985 - mean_absolute_percentage_error: 184803.0855\n",
      "Epoch 27/100\n",
      "1609/1609 [==============================] - 3s 2ms/step - loss: 10.0109 - mean_absolute_percentage_error: 131059.3495\n",
      "Epoch 28/100\n",
      "1609/1609 [==============================] - 3s 2ms/step - loss: 9.5150 - mean_absolute_percentage_error: 58.0037\n",
      "Epoch 29/100\n",
      "1609/1609 [==============================] - 3s 2ms/step - loss: 10.5267 - mean_absolute_percentage_error: 34023.5949\n",
      "Epoch 30/100\n",
      "1609/1609 [==============================] - 3s 2ms/step - loss: 9.6815 - mean_absolute_percentage_error: 133301.6560\n",
      "Epoch 31/100\n",
      "1609/1609 [==============================] - 3s 2ms/step - loss: 10.0747 - mean_absolute_percentage_error: 55.9891\n",
      "Epoch 32/100\n",
      "1609/1609 [==============================] - 3s 2ms/step - loss: 9.6496 - mean_absolute_percentage_error: 153555.4779\n",
      "Epoch 33/100\n",
      "1609/1609 [==============================] - 3s 2ms/step - loss: 10.1087 - mean_absolute_percentage_error: 73474.8253\n",
      "Epoch 34/100\n",
      "1609/1609 [==============================] - 3s 2ms/step - loss: 9.4570 - mean_absolute_percentage_error: 40808.1402\n",
      "Epoch 35/100\n",
      "1609/1609 [==============================] - 3s 2ms/step - loss: 10.7272 - mean_absolute_percentage_error: 69.2655\n",
      "Epoch 36/100\n",
      "1609/1609 [==============================] - 3s 2ms/step - loss: 9.5754 - mean_absolute_percentage_error: 61.9853\n",
      "Epoch 37/100\n",
      "1609/1609 [==============================] - 3s 2ms/step - loss: 10.0451 - mean_absolute_percentage_error: 69.6781\n",
      "Epoch 38/100\n",
      "1609/1609 [==============================] - 3s 2ms/step - loss: 9.8931 - mean_absolute_percentage_error: 117877.2935\n",
      "Epoch 39/100\n",
      "1609/1609 [==============================] - 3s 2ms/step - loss: 9.2492 - mean_absolute_percentage_error: 146502.0073\n",
      "Epoch 40/100\n",
      "1609/1609 [==============================] - 3s 2ms/step - loss: 9.2744 - mean_absolute_percentage_error: 71445.7134\n",
      "Epoch 41/100\n",
      "1609/1609 [==============================] - 3s 2ms/step - loss: 9.4532 - mean_absolute_percentage_error: 74871.9161\n",
      "Epoch 42/100\n",
      "1609/1609 [==============================] - 3s 2ms/step - loss: 9.4128 - mean_absolute_percentage_error: 62.9472\n",
      "Epoch 43/100\n",
      "1609/1609 [==============================] - 3s 2ms/step - loss: 9.3556 - mean_absolute_percentage_error: 131515.8635s - loss: 9.4119 - mean_absolute_percentage_\n",
      "Epoch 44/100\n",
      "1609/1609 [==============================] - 3s 2ms/step - loss: 9.9988 - mean_absolute_percentage_error: 85170.9295\n",
      "Epoch 45/100\n",
      "1609/1609 [==============================] - 3s 2ms/step - loss: 10.1717 - mean_absolute_percentage_error: 116564.0433\n",
      "Epoch 46/100\n",
      "1609/1609 [==============================] - 3s 2ms/step - loss: 9.7045 - mean_absolute_percentage_error: 54.2109\n",
      "Epoch 47/100\n",
      "1609/1609 [==============================] - 3s 2ms/step - loss: 10.4095 - mean_absolute_percentage_error: 54571.8486\n",
      "Epoch 48/100\n",
      "1609/1609 [==============================] - 3s 2ms/step - loss: 10.2767 - mean_absolute_percentage_error: 58369.0639\n",
      "Epoch 49/100\n",
      "1609/1609 [==============================] - 3s 2ms/step - loss: 9.2137 - mean_absolute_percentage_error: 46031.8949\n",
      "Epoch 50/100\n",
      "1609/1609 [==============================] - 3s 2ms/step - loss: 9.2722 - mean_absolute_percentage_error: 83401.0592\n",
      "Epoch 51/100\n",
      "1609/1609 [==============================] - 3s 2ms/step - loss: 9.5701 - mean_absolute_percentage_error: 68.9251\n",
      "Epoch 52/100\n",
      "1609/1609 [==============================] - 3s 2ms/step - loss: 9.0152 - mean_absolute_percentage_error: 114660.1661\n",
      "Epoch 53/100\n",
      "1609/1609 [==============================] - 3s 2ms/step - loss: 9.2592 - mean_absolute_percentage_error: 162667.5322\n",
      "Epoch 54/100\n",
      "1609/1609 [==============================] - 3s 2ms/step - loss: 9.4488 - mean_absolute_percentage_error: 59340.2573\n",
      "Epoch 55/100\n",
      "1609/1609 [==============================] - 3s 2ms/step - loss: 8.8825 - mean_absolute_percentage_error: 69821.0480\n",
      "Epoch 56/100\n",
      "1609/1609 [==============================] - 3s 2ms/step - loss: 9.0178 - mean_absolute_percentage_error: 91611.7300\n",
      "Epoch 57/100\n",
      "1609/1609 [==============================] - 3s 2ms/step - loss: 9.2347 - mean_absolute_percentage_error: 126235.4637\n",
      "Epoch 58/100\n",
      "1609/1609 [==============================] - 3s 2ms/step - loss: 9.3181 - mean_absolute_percentage_error: 7122.1990\n",
      "Epoch 59/100\n",
      "1609/1609 [==============================] - 3s 2ms/step - loss: 8.7927 - mean_absolute_percentage_error: 1461.5393\n",
      "Epoch 60/100\n",
      "1609/1609 [==============================] - 3s 2ms/step - loss: 9.7405 - mean_absolute_percentage_error: 13950.7019\n",
      "Epoch 61/100\n",
      "1609/1609 [==============================] - 3s 2ms/step - loss: 9.6041 - mean_absolute_percentage_error: 165309.5660\n",
      "Epoch 62/100\n",
      "1609/1609 [==============================] - 3s 2ms/step - loss: 9.2267 - mean_absolute_percentage_error: 31472.0845\n",
      "Epoch 63/100\n",
      "1609/1609 [==============================] - 3s 2ms/step - loss: 9.4269 - mean_absolute_percentage_error: 109688.7909\n"
     ]
    },
    {
     "name": "stdout",
     "output_type": "stream",
     "text": [
      "Epoch 64/100\n",
      "1609/1609 [==============================] - 3s 2ms/step - loss: 9.0891 - mean_absolute_percentage_error: 58816.9326\n",
      "Epoch 65/100\n",
      "1609/1609 [==============================] - 3s 2ms/step - loss: 8.8853 - mean_absolute_percentage_error: 80849.9552\n",
      "Epoch 66/100\n",
      "1609/1609 [==============================] - 3s 2ms/step - loss: 9.0397 - mean_absolute_percentage_error: 42241.7334\n",
      "Epoch 67/100\n",
      "1609/1609 [==============================] - 3s 2ms/step - loss: 9.9445 - mean_absolute_percentage_error: 33111.6312\n",
      "Epoch 68/100\n",
      "1609/1609 [==============================] - 3s 2ms/step - loss: 8.9870 - mean_absolute_percentage_error: 88629.5114\n",
      "Epoch 69/100\n",
      "1609/1609 [==============================] - 3s 2ms/step - loss: 9.5208 - mean_absolute_percentage_error: 51140.6469\n",
      "Epoch 70/100\n",
      "1609/1609 [==============================] - 3s 2ms/step - loss: 9.1138 - mean_absolute_percentage_error: 62315.4764\n",
      "Epoch 71/100\n",
      "1609/1609 [==============================] - 3s 2ms/step - loss: 9.1918 - mean_absolute_percentage_error: 65613.2099\n",
      "Epoch 72/100\n",
      "1609/1609 [==============================] - 3s 2ms/step - loss: 9.2369 - mean_absolute_percentage_error: 47575.6981\n",
      "Epoch 73/100\n",
      "1609/1609 [==============================] - 3s 2ms/step - loss: 9.2281 - mean_absolute_percentage_error: 119371.5390\n",
      "Epoch 74/100\n",
      "1609/1609 [==============================] - 3s 2ms/step - loss: 9.0154 - mean_absolute_percentage_error: 10959.1479\n",
      "Epoch 75/100\n",
      "1609/1609 [==============================] - 3s 2ms/step - loss: 9.0996 - mean_absolute_percentage_error: 82651.9235\n",
      "Epoch 76/100\n",
      "1609/1609 [==============================] - 3s 2ms/step - loss: 9.0728 - mean_absolute_percentage_error: 36099.6079\n",
      "Epoch 77/100\n",
      "1609/1609 [==============================] - 3s 2ms/step - loss: 9.2981 - mean_absolute_percentage_error: 160303.0959\n",
      "Epoch 78/100\n",
      "1609/1609 [==============================] - 3s 2ms/step - loss: 8.7310 - mean_absolute_percentage_error: 282541.6937\n",
      "Epoch 79/100\n",
      "1609/1609 [==============================] - 3s 2ms/step - loss: 8.6911 - mean_absolute_percentage_error: 84.3430\n",
      "Epoch 80/100\n",
      "1609/1609 [==============================] - 3s 2ms/step - loss: 9.1033 - mean_absolute_percentage_error: 58503.1090\n",
      "Epoch 81/100\n",
      "1609/1609 [==============================] - 3s 2ms/step - loss: 9.3617 - mean_absolute_percentage_error: 141044.8843\n",
      "Epoch 82/100\n",
      "1609/1609 [==============================] - 3s 2ms/step - loss: 8.9661 - mean_absolute_percentage_error: 9413.1273\n",
      "Epoch 83/100\n",
      "1609/1609 [==============================] - 3s 2ms/step - loss: 9.1532 - mean_absolute_percentage_error: 27292.7703\n",
      "Epoch 84/100\n",
      "1609/1609 [==============================] - 3s 2ms/step - loss: 9.3550 - mean_absolute_percentage_error: 57355.1425\n",
      "Epoch 85/100\n",
      "1609/1609 [==============================] - 3s 2ms/step - loss: 8.7854 - mean_absolute_percentage_error: 116958.1268\n",
      "Epoch 86/100\n",
      "1609/1609 [==============================] - 3s 2ms/step - loss: 9.0497 - mean_absolute_percentage_error: 160153.6238\n",
      "Epoch 87/100\n",
      "1609/1609 [==============================] - 3s 2ms/step - loss: 8.5217 - mean_absolute_percentage_error: 92796.9099\n",
      "Epoch 88/100\n",
      "1609/1609 [==============================] - 3s 2ms/step - loss: 8.8715 - mean_absolute_percentage_error: 76036.5647\n",
      "Epoch 89/100\n",
      "1609/1609 [==============================] - 3s 2ms/step - loss: 9.0694 - mean_absolute_percentage_error: 78070.8593\n",
      "Epoch 90/100\n",
      "1609/1609 [==============================] - 3s 2ms/step - loss: 8.7881 - mean_absolute_percentage_error: 98067.7557\n",
      "Epoch 91/100\n",
      "1609/1609 [==============================] - 3s 2ms/step - loss: 8.8464 - mean_absolute_percentage_error: 81075.5305\n",
      "Epoch 92/100\n",
      "1609/1609 [==============================] - 3s 2ms/step - loss: 8.3864 - mean_absolute_percentage_error: 102535.7130\n",
      "Epoch 93/100\n",
      "1609/1609 [==============================] - 3s 2ms/step - loss: 8.6178 - mean_absolute_percentage_error: 173032.0588\n",
      "Epoch 94/100\n",
      "1609/1609 [==============================] - 3s 2ms/step - loss: 8.4014 - mean_absolute_percentage_error: 159325.2494\n",
      "Epoch 95/100\n",
      "1609/1609 [==============================] - 3s 2ms/step - loss: 8.7998 - mean_absolute_percentage_error: 29959.7247\n",
      "Epoch 96/100\n",
      "1609/1609 [==============================] - 3s 2ms/step - loss: 9.1843 - mean_absolute_percentage_error: 128298.4473\n",
      "Epoch 97/100\n",
      "1609/1609 [==============================] - 3s 2ms/step - loss: 8.3917 - mean_absolute_percentage_error: 198222.0253\n",
      "Epoch 98/100\n",
      "1609/1609 [==============================] - 3s 2ms/step - loss: 8.3766 - mean_absolute_percentage_error: 83967.5223\n",
      "Epoch 99/100\n",
      "1609/1609 [==============================] - 3s 2ms/step - loss: 9.0849 - mean_absolute_percentage_error: 64140.0333\n",
      "Epoch 100/100\n",
      "1609/1609 [==============================] - 3s 2ms/step - loss: 8.9509 - mean_absolute_percentage_error: 44867.9894\n"
     ]
    },
    {
     "data": {
      "text/plain": [
       "<keras.callbacks.History at 0x195fee62f28>"
      ]
     },
     "execution_count": 9,
     "metadata": {},
     "output_type": "execute_result"
    }
   ],
   "source": [
    "model.fit(X_train, y_train, batch_size=32, epochs=100)"
   ]
  },
  {
   "cell_type": "code",
   "execution_count": 10,
   "metadata": {
    "ExecuteTime": {
     "end_time": "2018-07-28T20:53:00.118487Z",
     "start_time": "2018-07-28T20:52:59.738551Z"
    }
   },
   "outputs": [
    {
     "name": "stdout",
     "output_type": "stream",
     "text": [
      "393/393 [==============================] - 0s 957us/step\n"
     ]
    }
   ],
   "source": [
    "score = model.evaluate(X_test, y_test, batch_size=32)"
   ]
  },
  {
   "cell_type": "code",
   "execution_count": 11,
   "metadata": {
    "ExecuteTime": {
     "end_time": "2018-07-28T20:53:00.121958Z",
     "start_time": "2018-07-28T20:53:00.119479Z"
    }
   },
   "outputs": [
    {
     "name": "stdout",
     "output_type": "stream",
     "text": [
      "[7.753191358260526, 48.14723322045712]\n"
     ]
    }
   ],
   "source": [
    "print(score)"
   ]
  },
  {
   "cell_type": "code",
   "execution_count": 12,
   "metadata": {
    "ExecuteTime": {
     "end_time": "2018-07-28T20:53:00.490485Z",
     "start_time": "2018-07-28T20:53:00.122951Z"
    }
   },
   "outputs": [],
   "source": [
    "x_hat = X_test\n",
    "preds = model.predict(x_hat)"
   ]
  },
  {
   "cell_type": "code",
   "execution_count": 13,
   "metadata": {
    "ExecuteTime": {
     "end_time": "2018-07-28T20:53:00.494454Z",
     "start_time": "2018-07-28T20:53:00.491478Z"
    }
   },
   "outputs": [
    {
     "name": "stdout",
     "output_type": "stream",
     "text": [
      "[ 0.80856895 52.86869   ]\n"
     ]
    }
   ],
   "source": [
    "print(preds[0])"
   ]
  },
  {
   "cell_type": "code",
   "execution_count": 14,
   "metadata": {
    "ExecuteTime": {
     "end_time": "2018-07-28T20:53:00.562902Z",
     "start_time": "2018-07-28T20:53:00.495446Z"
    }
   },
   "outputs": [
    {
     "data": {
      "image/png": "[encoded data removed]",
      "text/plain": [
       "<Figure size 432x288 with 1 Axes>"
      ]
     },
     "metadata": {},
     "output_type": "display_data"
    }
   ],
   "source": [
    "flows = [(x[0]/scale_ + min_) for x in preds]\n",
    "speeds = [x[1] for x in preds]\n",
    "plt.scatter(flows, speeds)\n",
    "plt.show()"
   ]
  },
  {
   "cell_type": "code",
   "execution_count": null,
   "metadata": {},
   "outputs": [],
   "source": []
  }
 ],
 "metadata": {
  "kernelspec": {
   "display_name": "Python 3",
   "language": "python",
   "name": "python3"
  },
  "language_info": {
   "codemirror_mode": {
    "name": "ipython",
    "version": 3
   },
   "file_extension": ".py",
   "mimetype": "text/x-python",
   "name": "python",
   "nbconvert_exporter": "python",
   "pygments_lexer": "ipython3",
   "version": "3.5.5"
  }
 },
 "nbformat": 4,
 "nbformat_minor": 2
}

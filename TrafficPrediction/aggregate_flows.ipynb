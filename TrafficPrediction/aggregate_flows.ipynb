{
 "cells": [
  {
   "cell_type": "code",
   "execution_count": 1,
   "metadata": {},
   "outputs": [],
   "source": [
    "import pandas as pd\n",
    "import numpy as np\n",
    "# cities = ['athens', 'east_rancho_dominguez', 'el_segundo', 'long_beach', 'lynwood', 'norwalk', 'redondo', 'wilmington']\n",
    "cities = ['athens', 'east_rancho_dominguez', 'el_segundo', 'long_beach', 'lynwood', 'wilmington']\n"
   ]
  },
  {
   "cell_type": "code",
   "execution_count": 3,
   "metadata": {},
   "outputs": [],
   "source": [
    "for city in cities:\n",
    "    in_file = '../data/' + city + '/pems_test.csv'\n",
    "    out_file = '../data/' + city + '/test.csv'\n",
    "    df = pd.read_csv(in_file)\n",
    "    cols = ['5 Minutes', 'Flow (Veh/5 Minutes)', 'Speed (mph)']\n",
    "    df = df[cols]\n",
    "    df.to_csv(out_file)\n",
    "    "
   ]
  },
  {
   "cell_type": "code",
   "execution_count": 55,
   "metadata": {},
   "outputs": [
    {
     "name": "stdout",
     "output_type": "stream",
     "text": [
      "[[0 '3/22/2018 0:15' 115]\n",
      " [1 '3/22/2018 0:20' 48]\n",
      " [2 '3/22/2018 0:25' 81]\n",
      " [3 '3/22/2018 0:30' 73]\n",
      " [4 '3/22/2018 0:35' 71]\n",
      " [5 '3/22/2018 0:40' 90]\n",
      " [6 '3/22/2018 0:45' 46]\n",
      " [7 '3/22/2018 0:50' 53]\n",
      " [8 '3/22/2018 0:55' 41]\n",
      " [9 '3/22/2018 1:00' 81]\n",
      " [10 '3/22/2018 1:05' 68]\n",
      " [11 '3/22/2018 1:10' 40]]\n",
      "[115 48 81 73 71 90 46 53 41 81 68 40]\n",
      "[48]\n"
     ]
    }
   ],
   "source": [
    "df = pd.read_csv('../data/' + 'redondo' + '/test.csv', encoding='utf-8').fillna(0)\n",
    "df = np.array(df)\n",
    "data = df[0:12]\n",
    "print(data)\n",
    "print(data[:,2])\n",
    "data = df[1]\n",
    "print(data[2:])"
   ]
  },
  {
   "cell_type": "code",
   "execution_count": 4,
   "metadata": {},
   "outputs": [],
   "source": [
    "test_file = '../data/athens/test.csv'\n",
    "df = pd.read_csv(test_file, encoding='utf-8').fillna(0)"
   ]
  },
  {
   "cell_type": "code",
   "execution_count": 5,
   "metadata": {},
   "outputs": [
    {
     "name": "stdout",
     "output_type": "stream",
     "text": [
      "[[0 '3/24/2018 6:15' 130 67.6]\n",
      " [1 '3/24/2018 6:20' 148 68.0]\n",
      " [2 '3/24/2018 6:25' 146 67.9]\n",
      " [3 '3/24/2018 6:30' 139 67.9]\n",
      " [4 '3/24/2018 6:35' 153 64.8]\n",
      " [5 '3/24/2018 6:40' 172 65.2]\n",
      " [6 '3/24/2018 6:45' 163 68.5]\n",
      " [7 '3/24/2018 6:50' 174 69.9]\n",
      " [8 '3/24/2018 6:55' 156 67.6]\n",
      " [9 '3/24/2018 7:00' 155 65.2]\n",
      " [10 '3/24/2018 7:05' 163 67.1]\n",
      " [11 '3/24/2018 7:10' 181 66.3]]\n"
     ]
    }
   ],
   "source": [
    "df = np.array(df)\n",
    "data = df[0:12]\n",
    "print(data)"
   ]
  },
  {
   "cell_type": "code",
   "execution_count": 6,
   "metadata": {},
   "outputs": [
    {
     "name": "stdout",
     "output_type": "stream",
     "text": [
      "[130 148 146 139 153 172 163 174 156 155 163 181]\n",
      "[67.6 68.0 67.9 67.9 64.8 65.2 68.5 69.9 67.6 65.2 67.1 66.3]\n"
     ]
    }
   ],
   "source": [
    "flows = data[:,2]\n",
    "avg_speeds = data[:,3]\n",
    "print(flows)\n",
    "print(avg_speeds)"
   ]
  },
  {
   "cell_type": "code",
   "execution_count": 7,
   "metadata": {},
   "outputs": [
    {
     "name": "stdout",
     "output_type": "stream",
     "text": [
      "67.16666666666667\n"
     ]
    }
   ],
   "source": [
    "avg_speed = np.mean(avg_speeds)\n",
    "print(avg_speed)"
   ]
  },
  {
   "cell_type": "code",
   "execution_count": null,
   "metadata": {},
   "outputs": [],
   "source": []
  }
 ],
 "metadata": {
  "kernelspec": {
   "display_name": "Python 3",
   "language": "python",
   "name": "python3"
  },
  "language_info": {
   "codemirror_mode": {
    "name": "ipython",
    "version": 3
   },
   "file_extension": ".py",
   "mimetype": "text/x-python",
   "name": "python",
   "nbconvert_exporter": "python",
   "pygments_lexer": "ipython3",
   "version": "3.6.7"
  }
 },
 "nbformat": 4,
 "nbformat_minor": 2
}

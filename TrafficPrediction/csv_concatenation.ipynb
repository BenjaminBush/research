{
 "cells": [
  {
   "cell_type": "code",
   "execution_count": 1,
   "metadata": {
    "ExecuteTime": {
     "end_time": "2018-08-25T20:37:12.480586Z",
     "start_time": "2018-08-25T20:37:12.218698Z"
    }
   },
   "outputs": [],
   "source": [
    "import pandas as pd\n",
    "import numpy as np"
   ]
  },
  {
   "cell_type": "code",
   "execution_count": 8,
   "metadata": {
    "ExecuteTime": {
     "end_time": "2018-08-25T20:43:10.058291Z",
     "start_time": "2018-08-25T20:43:10.041923Z"
    }
   },
   "outputs": [],
   "source": [
    "num_parts = 4\n",
    "dfs = []\n",
    "for i in range(num_parts):\n",
    "    dfs.append(pd.read_csv('../data/pems_' + str(i) + '.csv'))\n",
    "    \n",
    "bigdf = pd.concat(dfs, axis=0, join='inner')"
   ]
  },
  {
   "cell_type": "code",
   "execution_count": 9,
   "metadata": {
    "ExecuteTime": {
     "end_time": "2018-08-25T20:43:10.674819Z",
     "start_time": "2018-08-25T20:43:10.650020Z"
    }
   },
   "outputs": [],
   "source": [
    "outfile = '../data/big_pems.csv'\n",
    "bigdf.to_csv(outfile)"
   ]
  },
  {
   "cell_type": "code",
   "execution_count": 10,
   "metadata": {
    "ExecuteTime": {
     "end_time": "2018-08-25T20:46:31.546112Z",
     "start_time": "2018-08-25T20:46:31.290671Z"
    }
   },
   "outputs": [],
   "source": [
    "from sklearn.model_selection import train_test_split"
   ]
  },
  {
   "cell_type": "code",
   "execution_count": 11,
   "metadata": {
    "ExecuteTime": {
     "end_time": "2018-08-25T20:46:53.687576Z",
     "start_time": "2018-08-25T20:46:53.682121Z"
    }
   },
   "outputs": [],
   "source": [
    "train, test = train_test_split(bigdf, shuffle=False)"
   ]
  },
  {
   "cell_type": "code",
   "execution_count": 12,
   "metadata": {
    "ExecuteTime": {
     "end_time": "2018-08-25T20:46:58.356925Z",
     "start_time": "2018-08-25T20:46:58.354445Z"
    }
   },
   "outputs": [
    {
     "name": "stdout",
     "output_type": "stream",
     "text": [
      "(6075, 3)\n"
     ]
    }
   ],
   "source": [
    "print(train.shape)"
   ]
  },
  {
   "cell_type": "code",
   "execution_count": 13,
   "metadata": {
    "ExecuteTime": {
     "end_time": "2018-08-25T20:47:01.509009Z",
     "start_time": "2018-08-25T20:47:01.506033Z"
    }
   },
   "outputs": [
    {
     "name": "stdout",
     "output_type": "stream",
     "text": [
      "(2025, 3)\n"
     ]
    }
   ],
   "source": [
    "print(test.shape)"
   ]
  },
  {
   "cell_type": "code",
   "execution_count": 14,
   "metadata": {
    "ExecuteTime": {
     "end_time": "2018-08-25T20:48:12.375086Z",
     "start_time": "2018-08-25T20:48:12.346815Z"
    }
   },
   "outputs": [],
   "source": [
    "train_out = '../data/pems_train.csv'\n",
    "test_out = '../data/pems_test.csv'\n",
    "train.to_csv(train_out)\n",
    "test.to_csv(test_out)"
   ]
  },
  {
   "cell_type": "code",
   "execution_count": null,
   "metadata": {},
   "outputs": [],
   "source": []
  }
 ],
 "metadata": {
  "kernelspec": {
   "display_name": "Python 3",
   "language": "python",
   "name": "python3"
  },
  "language_info": {
   "codemirror_mode": {
    "name": "ipython",
    "version": 3
   },
   "file_extension": ".py",
   "mimetype": "text/x-python",
   "name": "python",
   "nbconvert_exporter": "python",
   "pygments_lexer": "ipython3",
   "version": "3.5.5"
  }
 },
 "nbformat": 4,
 "nbformat_minor": 2
}

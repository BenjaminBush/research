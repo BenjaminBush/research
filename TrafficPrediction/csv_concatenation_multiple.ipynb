{
 "cells": [
  {
   "cell_type": "code",
   "execution_count": 2,
   "metadata": {
    "ExecuteTime": {
     "end_time": "2018-08-25T20:37:12.480586Z",
     "start_time": "2018-08-25T20:37:12.218698Z"
    }
   },
   "outputs": [],
   "source": [
    "import pandas as pd\n",
    "import numpy as np"
   ]
  },
  {
   "cell_type": "code",
   "execution_count": 3,
   "metadata": {
    "ExecuteTime": {
     "end_time": "2018-08-25T20:43:10.058291Z",
     "start_time": "2018-08-25T20:43:10.041923Z"
    }
   },
   "outputs": [
    {
     "name": "stderr",
     "output_type": "stream",
     "text": [
      "/home/ben/.local/lib/python3.6/site-packages/pandas/io/excel.py:329: FutureWarning: The `sheetname` keyword is deprecated, use `sheet_name` instead\n",
      "  **kwds)\n"
     ]
    }
   ],
   "source": [
    "num_parts = 5\n",
    "files = {}\n",
    "cities = ['athens', 'east_rancho_dominguez', 'el_segundo', 'long_beach', 'lynwood', 'norwalk', 'redondo', 'wilmington']\n",
    "for city in cities:\n",
    "    files[city] = []\n",
    "    \n",
    "for city in cities:\n",
    "    for i in range(5):\n",
    "        if city == 'redondo' and i == 4:\n",
    "            continue\n",
    "        else:\n",
    "            name = '../data/' + city + '/pems_output_' + str(i) + '.xlsx'\n",
    "            files[city].append(name)\n",
    "\n",
    "dfs = {}\n",
    "bigdf = {}\n",
    "for city in cities:\n",
    "    dfs[city] = []\n",
    "    bigdf[city] = []\n",
    "    \n",
    "for city in cities:\n",
    "    for file in files[city]:\n",
    "        data = pd.read_excel(file, sheetname=0)\n",
    "        dfs[city].append(data)\n",
    "    bigdf[city] = pd.concat(dfs[city], axis=0, join='inner')"
   ]
  },
  {
   "cell_type": "code",
   "execution_count": 4,
   "metadata": {
    "ExecuteTime": {
     "end_time": "2018-08-25T20:43:10.674819Z",
     "start_time": "2018-08-25T20:43:10.650020Z"
    }
   },
   "outputs": [],
   "source": [
    "for city in cities:\n",
    "    outfile = '../data/' + city + '/big_pems.csv'\n",
    "    bigdf[city].to_csv(outfile)"
   ]
  },
  {
   "cell_type": "code",
   "execution_count": 5,
   "metadata": {
    "ExecuteTime": {
     "end_time": "2018-08-25T20:46:31.546112Z",
     "start_time": "2018-08-25T20:46:31.290671Z"
    }
   },
   "outputs": [],
   "source": [
    "from sklearn.model_selection import train_test_split"
   ]
  },
  {
   "cell_type": "code",
   "execution_count": 7,
   "metadata": {
    "ExecuteTime": {
     "end_time": "2018-08-25T20:46:53.687576Z",
     "start_time": "2018-08-25T20:46:53.682121Z"
    }
   },
   "outputs": [],
   "source": [
    "for city in cities:\n",
    "    train, test = train_test_split(bigdf[city], shuffle=False)\n",
    "    train_out = '../data/' + city + '/pems_train.csv'\n",
    "    test_out = '../data/' + city + '/pems_test.csv'\n",
    "    train.to_csv(train_out)\n",
    "    test.to_csv(test_out)"
   ]
  },
  {
   "cell_type": "code",
   "execution_count": 14,
   "metadata": {
    "ExecuteTime": {
     "end_time": "2018-08-25T20:48:12.375086Z",
     "start_time": "2018-08-25T20:48:12.346815Z"
    }
   },
   "outputs": [],
   "source": []
  },
  {
   "cell_type": "code",
   "execution_count": null,
   "metadata": {},
   "outputs": [],
   "source": []
  }
 ],
 "metadata": {
  "kernelspec": {
   "display_name": "Python 3",
   "language": "python",
   "name": "python3"
  },
  "language_info": {
   "codemirror_mode": {
    "name": "ipython",
    "version": 3
   },
   "file_extension": ".py",
   "mimetype": "text/x-python",
   "name": "python",
   "nbconvert_exporter": "python",
   "pygments_lexer": "ipython3",
   "version": "3.6.6"
  }
 },
 "nbformat": 4,
 "nbformat_minor": 2
}

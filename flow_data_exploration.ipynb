{
 "cells": [
  {
   "cell_type": "code",
   "execution_count": 4,
   "metadata": {},
   "outputs": [
    {
     "name": "stderr",
     "output_type": "stream",
     "text": [
      "/home/ben/.local/lib/python3.6/site-packages/pandas/io/excel.py:329: FutureWarning: The `sheetname` keyword is deprecated, use `sheet_name` instead\n",
      "  **kwds)\n"
     ]
    }
   ],
   "source": [
    "import pandas as pd\n",
    "files = []\n",
    "for i in range(4):\n",
    "    name = 'data/pems_output_' + str(i) + '.xlsx'\n",
    "    files.append(name)\n",
    "    \n",
    "dfs = []\n",
    "for file in files:\n",
    "    data = pd.read_excel(file, sheetname=0)\n",
    "    dfs.append(data)"
   ]
  },
  {
   "cell_type": "code",
   "execution_count": 5,
   "metadata": {},
   "outputs": [
    {
     "name": "stdout",
     "output_type": "stream",
     "text": [
      "        5 Minutes  Lane 1 Flow (Veh/5 Minutes)  Lane 1 Speed (mph)  \\\n",
      "0  3/08/2018 0:00                           28                71.9   \n",
      "1  3/08/2018 0:05                           29                71.8   \n",
      "\n",
      "   Lane 2 Flow (Veh/5 Minutes)  Lane 2 Speed (mph)  \\\n",
      "0                           36                71.0   \n",
      "1                           35                70.8   \n",
      "\n",
      "   Lane 3 Flow (Veh/5 Minutes)  Lane 3 Speed (mph)  \\\n",
      "0                           32                66.9   \n",
      "1                           32                66.3   \n",
      "\n",
      "   Lane 4 Flow (Veh/5 Minutes)  Lane 4 Speed (mph)  \\\n",
      "0                           24                64.9   \n",
      "1                           24                64.3   \n",
      "\n",
      "   Lane 5 Flow (Veh/5 Minutes)  Lane 5 Speed (mph)  Flow (Veh/5 Minutes)  \\\n",
      "0                            9                62.9                   129   \n",
      "1                            6                62.7                   126   \n",
      "\n",
      "   Speed (mph)  # Lane Points  % Observed  \n",
      "0         68.5              5           0  \n",
      "1         68.3              5           0  \n"
     ]
    }
   ],
   "source": [
    "print(dfs[1].head(2))"
   ]
  },
  {
   "cell_type": "code",
   "execution_count": 6,
   "metadata": {},
   "outputs": [],
   "source": [
    "speed_feature = \"Speed (mph)\" \n",
    "flow_feature = \"Flow (Veh/5 Minutes)\""
   ]
  },
  {
   "cell_type": "code",
   "execution_count": 7,
   "metadata": {},
   "outputs": [
    {
     "name": "stdout",
     "output_type": "stream",
     "text": [
      "0    68.5\n",
      "1    68.3\n",
      "Name: Speed (mph), dtype: float64\n"
     ]
    }
   ],
   "source": [
    "print(dfs[1].head(2)[speed_feature])"
   ]
  },
  {
   "cell_type": "code",
   "execution_count": 9,
   "metadata": {},
   "outputs": [
    {
     "name": "stdout",
     "output_type": "stream",
     "text": [
      "0    129\n",
      "1    126\n",
      "2     94\n",
      "Name: Flow (Veh/5 Minutes), dtype: int64\n"
     ]
    }
   ],
   "source": [
    "print(dfs[1].head(3)[flow_feature])"
   ]
  },
  {
   "cell_type": "code",
   "execution_count": 11,
   "metadata": {},
   "outputs": [],
   "source": [
    "# Combine the individual dataframes into one big df\n",
    "big_df = pd.concat(dfs)"
   ]
  },
  {
   "cell_type": "code",
   "execution_count": 13,
   "metadata": {},
   "outputs": [
    {
     "name": "stdout",
     "output_type": "stream",
     "text": [
      "        5 Minutes  Lane 1 Flow (Veh/5 Minutes)  Lane 1 Speed (mph)  \\\n",
      "0  3/01/2018 0:00                           19                71.9   \n",
      "1  3/01/2018 0:05                           22                72.2   \n",
      "\n",
      "   Lane 2 Flow (Veh/5 Minutes)  Lane 2 Speed (mph)  \\\n",
      "0                           23                71.0   \n",
      "1                           31                71.2   \n",
      "\n",
      "   Lane 3 Flow (Veh/5 Minutes)  Lane 3 Speed (mph)  \\\n",
      "0                           22                66.9   \n",
      "1                           28                67.5   \n",
      "\n",
      "   Lane 4 Flow (Veh/5 Minutes)  Lane 4 Speed (mph)  \\\n",
      "0                           14                64.9   \n",
      "1                           21                65.5   \n",
      "\n",
      "   Lane 5 Flow (Veh/5 Minutes)  Lane 5 Speed (mph)  Flow (Veh/5 Minutes)  \\\n",
      "0                            9                62.9                    87   \n",
      "1                            9                63.2                   111   \n",
      "\n",
      "   Speed (mph)  # Lane Points  % Observed  \n",
      "0         68.3              5           0  \n",
      "1         68.7              5           0  \n",
      "           5 Minutes  Lane 1 Flow (Veh/5 Minutes)  Lane 1 Speed (mph)  \\\n",
      "2023  3/29/2018 0:35                           27                72.0   \n",
      "2024  3/29/2018 0:40                           22                72.5   \n",
      "2025  3/29/2018 0:45                           22                73.0   \n",
      "2026  3/29/2018 0:50                           29                74.0   \n",
      "2027  3/29/2018 0:55                           16                72.5   \n",
      "\n",
      "      Lane 2 Flow (Veh/5 Minutes)  Lane 2 Speed (mph)  \\\n",
      "2023                           35                71.1   \n",
      "2024                           30                71.5   \n",
      "2025                           30                72.0   \n",
      "2026                           37                72.9   \n",
      "2027                           26                71.5   \n",
      "\n",
      "      Lane 3 Flow (Veh/5 Minutes)  Lane 3 Speed (mph)  \\\n",
      "2023                           32                66.8   \n",
      "2024                           27                67.1   \n",
      "2025                           27                67.6   \n",
      "2026                           33                68.8   \n",
      "2027                           24                67.6   \n",
      "\n",
      "      Lane 4 Flow (Veh/5 Minutes)  Lane 4 Speed (mph)  \\\n",
      "2023                           24                64.7   \n",
      "2024                           19                65.0   \n",
      "2025                           20                65.4   \n",
      "2026                           25                66.6   \n",
      "2027                           16                65.6   \n",
      "\n",
      "      Lane 5 Flow (Veh/5 Minutes)  Lane 5 Speed (mph)  Flow (Veh/5 Minutes)  \\\n",
      "2023                            6                62.9                   124   \n",
      "2024                            7                63.1                   105   \n",
      "2025                           11                63.3                   110   \n",
      "2026                            9                63.8                   133   \n",
      "2027                            5                63.2                    87   \n",
      "\n",
      "      Speed (mph)  # Lane Points  % Observed  \n",
      "2023         68.6              5           0  \n",
      "2024         68.8              5           0  \n",
      "2025         69.1              5           0  \n",
      "2026         70.3              5           0  \n",
      "2027         69.1              5           0  \n"
     ]
    }
   ],
   "source": [
    "print(big_df.head(2))\n",
    "print(big_df.tail(5))"
   ]
  },
  {
   "cell_type": "code",
   "execution_count": 17,
   "metadata": {},
   "outputs": [],
   "source": [
    "def mph_to_kmh(speed):\n",
    "    speed *= 1.60934\n",
    "    return speed"
   ]
  },
  {
   "cell_type": "code",
   "execution_count": 26,
   "metadata": {},
   "outputs": [],
   "source": [
    "kmh_feature = \"vPKW\"\n",
    "big_df[kmh_feature] = big_df[speed_feature].apply(lambda row: mph_to_kmh(row))"
   ]
  },
  {
   "cell_type": "code",
   "execution_count": 28,
   "metadata": {},
   "outputs": [
    {
     "name": "stdout",
     "output_type": "stream",
     "text": [
      "        5 Minutes  Lane 1 Flow (Veh/5 Minutes)  Lane 1 Speed (mph)  \\\n",
      "0  3/01/2018 0:00                           19                71.9   \n",
      "1  3/01/2018 0:05                           22                72.2   \n",
      "\n",
      "   Lane 2 Flow (Veh/5 Minutes)  Lane 2 Speed (mph)  \\\n",
      "0                           23                71.0   \n",
      "1                           31                71.2   \n",
      "\n",
      "   Lane 3 Flow (Veh/5 Minutes)  Lane 3 Speed (mph)  \\\n",
      "0                           22                66.9   \n",
      "1                           28                67.5   \n",
      "\n",
      "   Lane 4 Flow (Veh/5 Minutes)  Lane 4 Speed (mph)  \\\n",
      "0                           14                64.9   \n",
      "1                           21                65.5   \n",
      "\n",
      "   Lane 5 Flow (Veh/5 Minutes)  Lane 5 Speed (mph)  Flow (Veh/5 Minutes)  \\\n",
      "0                            9                62.9                    87   \n",
      "1                            9                63.2                   111   \n",
      "\n",
      "   Speed (mph)  # Lane Points  % Observed  Speed (kmh)        vPKW  \n",
      "0         68.3              5           0   109.917922  109.917922  \n",
      "1         68.7              5           0   110.561658  110.561658  \n"
     ]
    }
   ],
   "source": [
    "print(big_df.head(2))"
   ]
  },
  {
   "cell_type": "code",
   "execution_count": 32,
   "metadata": {},
   "outputs": [
    {
     "name": "stdout",
     "output_type": "stream",
     "text": [
      "Flow (Veh/5 Minutes)\n",
      "0     87\n",
      "1    111\n",
      "Name: Flow (Veh/5 Minutes), dtype: int64\n"
     ]
    }
   ],
   "source": [
    "print(flow_feature)\n",
    "print(big_df.head(2)[flow_feature])"
   ]
  },
  {
   "cell_type": "code",
   "execution_count": 35,
   "metadata": {},
   "outputs": [],
   "source": [
    "def calculate_qPKW(row):\n",
    "    flow = row[flow_feature]\n",
    "    vPKW = row[kmh_feature]\n",
    "    return (flow/vPKW)\n",
    "\n",
    "qPKW_feature = 'qPKW'\n",
    "big_df[qPKW_feature] = big_df.apply(lambda row: calculate_qPKW(row), axis=1)"
   ]
  },
  {
   "cell_type": "code",
   "execution_count": 36,
   "metadata": {},
   "outputs": [
    {
     "name": "stdout",
     "output_type": "stream",
     "text": [
      "        5 Minutes  Lane 1 Flow (Veh/5 Minutes)  Lane 1 Speed (mph)  \\\n",
      "0  3/01/2018 0:00                           19                71.9   \n",
      "1  3/01/2018 0:05                           22                72.2   \n",
      "2  3/01/2018 0:10                           14                73.7   \n",
      "\n",
      "   Lane 2 Flow (Veh/5 Minutes)  Lane 2 Speed (mph)  \\\n",
      "0                           23                71.0   \n",
      "1                           31                71.2   \n",
      "2                           24                72.6   \n",
      "\n",
      "   Lane 3 Flow (Veh/5 Minutes)  Lane 3 Speed (mph)  \\\n",
      "0                           22                66.9   \n",
      "1                           28                67.5   \n",
      "2                           22                68.6   \n",
      "\n",
      "   Lane 4 Flow (Veh/5 Minutes)  Lane 4 Speed (mph)  \\\n",
      "0                           14                64.9   \n",
      "1                           21                65.5   \n",
      "2                           14                66.4   \n",
      "\n",
      "   Lane 5 Flow (Veh/5 Minutes)  Lane 5 Speed (mph)  Flow (Veh/5 Minutes)  \\\n",
      "0                            9                62.9                    87   \n",
      "1                            9                63.2                   111   \n",
      "2                            9                63.7                    83   \n",
      "\n",
      "   Speed (mph)  # Lane Points  % Observed  Speed (kmh)        vPKW      qPKW  \n",
      "0         68.3              5           0   109.917922  109.917922  0.791500  \n",
      "1         68.7              5           0   110.561658  110.561658  1.003965  \n",
      "2         69.7              5           0   112.170998  112.170998  0.739942  \n"
     ]
    }
   ],
   "source": [
    "print(big_df.head(3))"
   ]
  },
  {
   "cell_type": "code",
   "execution_count": 39,
   "metadata": {},
   "outputs": [
    {
     "data": {
      "image/png": "[encoded data removed]",
      "text/plain": [
       "<Figure size 432x288 with 1 Axes>"
      ]
     },
     "metadata": {},
     "output_type": "display_data"
    }
   ],
   "source": [
    "# Plot the density vs. flow relationship\n",
    "import matplotlib.pyplot as plt\n",
    "plt.scatter(big_df['qPKW'], big_df[flow_feature])\n",
    "plt.show() \n",
    "# This is roughly correct"
   ]
  },
  {
   "cell_type": "code",
   "execution_count": 51,
   "metadata": {},
   "outputs": [],
   "source": [
    "# We have vPKW, qPKW, the detector name, just need to get the timing now\n",
    "# We need to convert time to a scalar (can't use datetime format)\n",
    "# Once we finish with time, then we concatenate all appropriate dataframes and write to a csv\n",
    "\n",
    "# def convert_time(row):\n",
    "#     date_time = df['5 Minutes']\n",
    "import datetime\n",
    "import time\n",
    "base_time = 1519884000.0\n",
    "def convert_time(row):\n",
    "    data = row['5 Minutes']\n",
    "    formatted_data = datetime.datetime.strptime(data, \"%m/%d/%Y %H:%M\").timetuple()\n",
    "    unix_timestamp = time.mktime(formatted_data)\n",
    "    return (unix_timestamp - base_time)\n",
    "\n",
    "    \n",
    "time_feature = 'time'\n",
    "big_df[time_feature] = big_df.apply(lambda row: convert_time(row), axis=1)"
   ]
  },
  {
   "cell_type": "code",
   "execution_count": 52,
   "metadata": {},
   "outputs": [
    {
     "name": "stdout",
     "output_type": "stream",
     "text": [
      "0       0.0\n",
      "1     300.0\n",
      "2     600.0\n",
      "3     900.0\n",
      "4    1200.0\n",
      "Name: time, dtype: float64\n"
     ]
    }
   ],
   "source": [
    "print(big_df.head(5)[time_feature])"
   ]
  },
  {
   "cell_type": "code",
   "execution_count": 56,
   "metadata": {},
   "outputs": [],
   "source": [
    "import csv\n",
    "outfile = 'detector_flows.csv'\n",
    "headers = ['Detector', 'Time', 'qPKW', 'vPKW']\n",
    "\n",
    "with open(outfile, 'w+') as csvfile:\n",
    "    flow_writer = csv.writer(csvfile, delimiter=';')\n",
    "    for index, row in big_df.iterrows():\n",
    "        data_to_write = ['myDetector1']\n",
    "        data_to_write.append(row[time_feature])\n",
    "        data_to_write.append(row[qPKW_feature])\n",
    "        data_to_write.append(row['vPKW'])\n",
    "        flow_writer.writerow(data_to_write)"
   ]
  },
  {
   "cell_type": "code",
   "execution_count": null,
   "metadata": {},
   "outputs": [],
   "source": []
  }
 ],
 "metadata": {
  "kernelspec": {
   "display_name": "Python 3",
   "language": "python",
   "name": "python3"
  },
  "language_info": {
   "codemirror_mode": {
    "name": "ipython",
    "version": 3
   },
   "file_extension": ".py",
   "mimetype": "text/x-python",
   "name": "python",
   "nbconvert_exporter": "python",
   "pygments_lexer": "ipython3",
   "version": "3.6.5"
  }
 },
 "nbformat": 4,
 "nbformat_minor": 2
}

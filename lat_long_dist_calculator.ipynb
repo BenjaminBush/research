{
 "cells": [
  {
   "cell_type": "code",
   "execution_count": 1,
   "metadata": {},
   "outputs": [],
   "source": [
    "import numpy as np\n",
    "\n",
    "cities = ['athens', 'east_rancho_dominguez', 'el_segundo', 'long_beach', 'lynwood', 'wilmington']\n",
    "lats = {}\n",
    "longs = {}"
   ]
  },
  {
   "cell_type": "code",
   "execution_count": 2,
   "metadata": {},
   "outputs": [],
   "source": [
    "lats['el_segundo'] = 33.928621\n",
    "longs['el_segundo'] = -118.368522\n",
    "\n",
    "lats['wilmington'] = 33.825757\n",
    "longs['wilmington'] = -118.24005\n",
    "\n",
    "lats['long_beach'] = 33.824173\n",
    "longs['long_beach'] = -118.207084\n",
    "\n",
    "lats['lynwood'] = 33.914156\n",
    "longs['lynwood'] = -118.184451\n",
    "\n",
    "lats['athens'] = 33.928478\n",
    "longs['athens'] = -118.284031\n",
    "\n",
    "lats['east_rancho_dominguez'] = 33.877433\n",
    "longs['east_rancho_dominguez'] = -118.192776"
   ]
  },
  {
   "cell_type": "code",
   "execution_count": 13,
   "metadata": {},
   "outputs": [],
   "source": [
    "from geopy import distance\n",
    "\n",
    "def get_distance(city1, city2):\n",
    "    coords_1 = (lats[city1], longs[city1])\n",
    "    coords_2 = (lats[city1], longs[city2])\n",
    "    return distance.distance(coords_1, coords_2).mi"
   ]
  },
  {
   "cell_type": "code",
   "execution_count": 20,
   "metadata": {},
   "outputs": [
    {
     "data": {
      "text/plain": [
       "11.87785891495495"
      ]
     },
     "execution_count": 20,
     "metadata": {},
     "output_type": "execute_result"
    }
   ],
   "source": [
    "4.854279482875291 + 5.7221579249150185 + 0.47837885698276855 + 0.8230426501818744"
   ]
  },
  {
   "cell_type": "code",
   "execution_count": 21,
   "metadata": {},
   "outputs": [
    {
     "data": {
      "text/plain": [
       "9.277440431400313"
      ]
     },
     "execution_count": 21,
     "metadata": {},
     "output_type": "execute_result"
    }
   ],
   "source": [
    "7.381129003403495 + 1.8963114279968185"
   ]
  },
  {
   "cell_type": "code",
   "execution_count": null,
   "metadata": {},
   "outputs": [],
   "source": []
  }
 ],
 "metadata": {
  "kernelspec": {
   "display_name": "Python 3",
   "language": "python",
   "name": "python3"
  },
  "language_info": {
   "codemirror_mode": {
    "name": "ipython",
    "version": 3
   },
   "file_extension": ".py",
   "mimetype": "text/x-python",
   "name": "python",
   "nbconvert_exporter": "python",
   "pygments_lexer": "ipython3",
   "version": "3.6.7"
  }
 },
 "nbformat": 4,
 "nbformat_minor": 2
}

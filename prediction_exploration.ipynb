{
 "cells": [
  {
   "cell_type": "code",
   "execution_count": 5,
   "metadata": {},
   "outputs": [
    {
     "name": "stdout",
     "output_type": "stream",
     "text": [
      "<keras.layers.recurrent.LSTM object at 0x7f666deaaa58>\n"
     ]
    }
   ],
   "source": [
    "import pandas as pd\n",
    "import numpy as np \n",
    "import time \n",
    "from keras.models import load_model\n",
    "\n",
    "test_file = 'data/redondo/test.csv'\n",
    "df = pd.read_csv(test_file, encoding='utf-8').fillna(0)\n",
    "df = np.array(df)\n",
    "lstm = load_model(\"TrafficPrediction/lstm_model.h5\")\n",
    "scale_ = 0.005076142131979695"
   ]
  },
  {
   "cell_type": "code",
   "execution_count": 14,
   "metadata": {
    "scrolled": true
   },
   "outputs": [
    {
     "name": "stdout",
     "output_type": "stream",
     "text": [
      "[0.583756345177665 0.24365482233502536 0.4111675126903553\n",
      " 0.3705583756345177 0.36040609137055835 0.45685279187817257\n",
      " 0.23350253807106597 0.26903553299492383 0.2081218274111675\n",
      " 0.4111675126903553 0.34517766497461927 0.20304568527918782]\n",
      "[[0.2735302]]\n"
     ]
    },
    {
     "ename": "KeyboardInterrupt",
     "evalue": "",
     "output_type": "error",
     "traceback": [
      "\u001b[0;31m---------------------------------------------------------------------------\u001b[0m",
      "\u001b[0;31mKeyboardInterrupt\u001b[0m                         Traceback (most recent call last)",
      "\u001b[0;32m<ipython-input-14-b573a0b109df>\u001b[0m in \u001b[0;36m<module>\u001b[0;34m()\u001b[0m\n\u001b[1;32m     17\u001b[0m     \u001b[0mpreds\u001b[0m \u001b[0;34m=\u001b[0m \u001b[0mlstm\u001b[0m\u001b[0;34m.\u001b[0m\u001b[0mpredict\u001b[0m\u001b[0;34m(\u001b[0m\u001b[0mflows\u001b[0m\u001b[0;34m)\u001b[0m\u001b[0;34m\u001b[0m\u001b[0m\n\u001b[1;32m     18\u001b[0m     \u001b[0mprint\u001b[0m\u001b[0;34m(\u001b[0m\u001b[0mpreds\u001b[0m\u001b[0;34m)\u001b[0m\u001b[0;34m\u001b[0m\u001b[0m\n\u001b[0;32m---> 19\u001b[0;31m     \u001b[0mtime\u001b[0m\u001b[0;34m.\u001b[0m\u001b[0msleep\u001b[0m\u001b[0;34m(\u001b[0m\u001b[0;36m2\u001b[0m\u001b[0;34m)\u001b[0m\u001b[0;34m\u001b[0m\u001b[0m\n\u001b[0m\u001b[1;32m     20\u001b[0m \u001b[0;34m\u001b[0m\u001b[0m\n\u001b[1;32m     21\u001b[0m     \u001b[0;31m# Inverse transform\u001b[0m\u001b[0;34m\u001b[0m\u001b[0;34m\u001b[0m\u001b[0m\n",
      "\u001b[0;31mKeyboardInterrupt\u001b[0m: "
     ]
    }
   ],
   "source": [
    "import time\n",
    "n = df.shape[0]\n",
    "lag = 12\n",
    "start = time.time()\n",
    "n = 100\n",
    "for i in range(0, 100):\n",
    "    data = df[i:i+lag]\n",
    "    flows = data[:, 2]\n",
    "    # Transform the data for prediction\n",
    "    flows = np.asarray(flows)\n",
    "    flows = np.multiply(flows, scale_)\n",
    "    print(flows)\n",
    "    flows = np.reshape(flows, (1, lag, 1))\n",
    "#     print(flows)\n",
    "    \n",
    "    # Make the prediction\n",
    "    preds = lstm.predict(flows)\n",
    "    print(preds)\n",
    "    time.sleep(2)\n",
    "    \n",
    "    # Inverse transform\n",
    "    preds = np.divide(preds, scale_)\n",
    "    if i % 10 == 0:\n",
    "        print(\"processed {}\".format(i))\n",
    "#     print(\"Predictions : {}\".format(preds))\n",
    "    \n",
    "    #time.sleep(0.25)\n",
    "end = time.time()\n",
    "print(end-start)"
   ]
  },
  {
   "cell_type": "code",
   "execution_count": 7,
   "metadata": {},
   "outputs": [
    {
     "name": "stdout",
     "output_type": "stream",
     "text": [
      "Tensor(\"lstm_1_input_1:0\", shape=(?, 12, 1), dtype=float32)\n"
     ]
    }
   ],
   "source": [
    "print(lstm.get_layer(\"lstm_1\").input)"
   ]
  },
  {
   "cell_type": "code",
   "execution_count": 12,
   "metadata": {},
   "outputs": [
    {
     "name": "stdout",
     "output_type": "stream",
     "text": [
      "{\"class_name\": \"Sequential\", \"config\": [{\"class_name\": \"LSTM\", \"config\": {\"name\": \"lstm_1\", \"trainable\": true, \"batch_input_shape\": [null, 12, 1], \"dtype\": \"float32\", \"return_sequences\": true, \"return_state\": false, \"go_backwards\": false, \"stateful\": false, \"unroll\": false, \"units\": 256, \"activation\": \"tanh\", \"recurrent_activation\": \"hard_sigmoid\", \"use_bias\": true, \"kernel_initializer\": {\"class_name\": \"VarianceScaling\", \"config\": {\"scale\": 1.0, \"mode\": \"fan_avg\", \"distribution\": \"uniform\", \"seed\": null}}, \"recurrent_initializer\": {\"class_name\": \"VarianceScaling\", \"config\": {\"scale\": 1.0, \"mode\": \"fan_avg\", \"distribution\": \"uniform\", \"seed\": null}}, \"bias_initializer\": {\"class_name\": \"Zeros\", \"config\": {}}, \"unit_forget_bias\": true, \"kernel_regularizer\": null, \"recurrent_regularizer\": null, \"bias_regularizer\": null, \"activity_regularizer\": null, \"kernel_constraint\": null, \"recurrent_constraint\": null, \"bias_constraint\": null, \"dropout\": 0.0, \"recurrent_dropout\": 0.0, \"implementation\": 1}}, {\"class_name\": \"LSTM\", \"config\": {\"name\": \"lstm_2\", \"trainable\": true, \"return_sequences\": false, \"return_state\": false, \"go_backwards\": false, \"stateful\": false, \"unroll\": false, \"units\": 128, \"activation\": \"tanh\", \"recurrent_activation\": \"hard_sigmoid\", \"use_bias\": true, \"kernel_initializer\": {\"class_name\": \"VarianceScaling\", \"config\": {\"scale\": 1.0, \"mode\": \"fan_avg\", \"distribution\": \"uniform\", \"seed\": null}}, \"recurrent_initializer\": {\"class_name\": \"VarianceScaling\", \"config\": {\"scale\": 1.0, \"mode\": \"fan_avg\", \"distribution\": \"uniform\", \"seed\": null}}, \"bias_initializer\": {\"class_name\": \"Zeros\", \"config\": {}}, \"unit_forget_bias\": true, \"kernel_regularizer\": null, \"recurrent_regularizer\": null, \"bias_regularizer\": null, \"activity_regularizer\": null, \"kernel_constraint\": null, \"recurrent_constraint\": null, \"bias_constraint\": null, \"dropout\": 0.0, \"recurrent_dropout\": 0.0, \"implementation\": 1}}, {\"class_name\": \"Dropout\", \"config\": {\"name\": \"dropout_1\", \"trainable\": true, \"rate\": 0.2, \"noise_shape\": null, \"seed\": null}}, {\"class_name\": \"Dense\", \"config\": {\"name\": \"dense_1\", \"trainable\": true, \"units\": 64, \"activation\": \"relu\", \"use_bias\": true, \"kernel_initializer\": {\"class_name\": \"VarianceScaling\", \"config\": {\"scale\": 1.0, \"mode\": \"fan_avg\", \"distribution\": \"uniform\", \"seed\": null}}, \"bias_initializer\": {\"class_name\": \"Zeros\", \"config\": {}}, \"kernel_regularizer\": null, \"bias_regularizer\": null, \"activity_regularizer\": null, \"kernel_constraint\": null, \"bias_constraint\": null}}, {\"class_name\": \"Dropout\", \"config\": {\"name\": \"dropout_2\", \"trainable\": true, \"rate\": 0.25, \"noise_shape\": null, \"seed\": null}}, {\"class_name\": \"Dense\", \"config\": {\"name\": \"dense_2\", \"trainable\": true, \"units\": 1, \"activation\": \"relu\", \"use_bias\": true, \"kernel_initializer\": {\"class_name\": \"VarianceScaling\", \"config\": {\"scale\": 1.0, \"mode\": \"fan_avg\", \"distribution\": \"uniform\", \"seed\": null}}, \"bias_initializer\": {\"class_name\": \"Zeros\", \"config\": {}}, \"kernel_regularizer\": null, \"bias_regularizer\": null, \"activity_regularizer\": null, \"kernel_constraint\": null, \"bias_constraint\": null}}], \"keras_version\": \"2.2.2\", \"backend\": \"tensorflow\"}\n"
     ]
    },
    {
     "data": {
      "text/plain": [
       "3152"
      ]
     },
     "execution_count": 12,
     "metadata": {},
     "output_type": "execute_result"
    }
   ],
   "source": [
    "lstm.save_weights('/home/ben/git/research/TrafficPrediction/model_weights')\n",
    "text_file = open(\"/home/ben/git/research/TrafficPrediction/model_json\", \"w\")\n",
    "s = lstm.to_json()\n",
    "print(s)\n",
    "text_file.write(s)"
   ]
  },
  {
   "cell_type": "code",
   "execution_count": 32,
   "metadata": {},
   "outputs": [
    {
     "name": "stdout",
     "output_type": "stream",
     "text": [
      "<class 'numpy.ndarray'>\n",
      "<class 'numpy.ndarray'>\n",
      "<class 'numpy.ndarray'>\n",
      "<class 'numpy.ndarray'>\n",
      "<class 'numpy.ndarray'>\n",
      "<class 'numpy.ndarray'>\n"
     ]
    }
   ],
   "source": [
    "from keras import backend as K\n",
    "\n",
    "min_ = -0.03880597014925373\n",
    "inp = lstm.input\n",
    "outputs = [layer.output for layer in lstm.layers]\n",
    "functors = [K.function([inp, K.learning_phase()], [out]) for out in outputs]\n",
    "\n",
    "test_data = [223, 190, 218, 223, 202, 220, 214, 208, 131, 164, 176, 184]\n",
    "test_data = np.asarray(test_data)\n",
    "test_data = np.multiply(test_data, scale_)\n",
    "test_data = np.add(test_data, min_)\n",
    "test_data = np.reshape(test_data, (1, lag, 1))\n",
    "layer_outs = [func([test_data, 1.]) for func in functors]\n",
    "with open(\"/home/ben/git/research/TrafficPrediction/layer_outs\", \"w\") as text_file:\n",
    "    for layer in layer_outs:\n",
    "        for out in layer:\n",
    "            print(type(out))\n",
    "            text_file.write(str(out) + \" \")\n",
    "        text_file.write(\"\\n\")"
   ]
  },
  {
   "cell_type": "code",
   "execution_count": null,
   "metadata": {},
   "outputs": [],
   "source": []
  }
 ],
 "metadata": {
  "kernelspec": {
   "display_name": "Python 3",
   "language": "python",
   "name": "python3"
  },
  "language_info": {
   "codemirror_mode": {
    "name": "ipython",
    "version": 3
   },
   "file_extension": ".py",
   "mimetype": "text/x-python",
   "name": "python",
   "nbconvert_exporter": "python",
   "pygments_lexer": "ipython3",
   "version": "3.6.6"
  }
 },
 "nbformat": 4,
 "nbformat_minor": 2
}

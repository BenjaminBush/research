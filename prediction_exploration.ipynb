{
 "cells": [
  {
   "cell_type": "code",
   "execution_count": 5,
   "metadata": {},
   "outputs": [
    {
     "name": "stdout",
     "output_type": "stream",
     "text": [
      "<keras.layers.recurrent.LSTM object at 0x7f666deaaa58>\n"
     ]
    }
   ],
   "source": [
    "import pandas as pd\n",
    "import numpy as np \n",
    "import time \n",
    "from keras.models import load_model\n",
    "\n",
    "test_file = 'data/redondo/test.csv'\n",
    "df = pd.read_csv(test_file, encoding='utf-8').fillna(0)\n",
    "df = np.array(df)\n",
    "lstm = load_model(\"TrafficPrediction/lstm_model.h5\")\n",
    "scale_ = 0.005076142131979695"
   ]
  },
  {
   "cell_type": "code",
   "execution_count": 8,
   "metadata": {
    "scrolled": true
   },
   "outputs": [
    {
     "name": "stdout",
     "output_type": "stream",
     "text": [
      "[[0.2735302]]\n",
      "processed 0\n",
      "[[0.30813408]]\n",
      "[[0.29968938]]\n",
      "[[0.32772952]]\n",
      "[[0.26642972]]\n",
      "[[0.28293496]]\n",
      "[[0.28452212]]\n",
      "[[0.27589217]]\n",
      "[[0.2944814]]\n",
      "[[0.34724283]]\n",
      "[[0.39509857]]\n"
     ]
    },
    {
     "ename": "KeyboardInterrupt",
     "evalue": "",
     "output_type": "error",
     "traceback": [
      "\u001b[0;31m---------------------------------------------------------------------------\u001b[0m",
      "\u001b[0;31mKeyboardInterrupt\u001b[0m                         Traceback (most recent call last)",
      "\u001b[0;32m<ipython-input-8-108e5a04ffbf>\u001b[0m in \u001b[0;36m<module>\u001b[0;34m()\u001b[0m\n\u001b[1;32m     15\u001b[0m     \u001b[0mpreds\u001b[0m \u001b[0;34m=\u001b[0m \u001b[0mlstm\u001b[0m\u001b[0;34m.\u001b[0m\u001b[0mpredict\u001b[0m\u001b[0;34m(\u001b[0m\u001b[0mflows\u001b[0m\u001b[0;34m)\u001b[0m\u001b[0;34m\u001b[0m\u001b[0m\n\u001b[1;32m     16\u001b[0m     \u001b[0mprint\u001b[0m\u001b[0;34m(\u001b[0m\u001b[0mpreds\u001b[0m\u001b[0;34m)\u001b[0m\u001b[0;34m\u001b[0m\u001b[0m\n\u001b[0;32m---> 17\u001b[0;31m     \u001b[0mtime\u001b[0m\u001b[0;34m.\u001b[0m\u001b[0msleep\u001b[0m\u001b[0;34m(\u001b[0m\u001b[0;36m2\u001b[0m\u001b[0;34m)\u001b[0m\u001b[0;34m\u001b[0m\u001b[0m\n\u001b[0m\u001b[1;32m     18\u001b[0m \u001b[0;34m\u001b[0m\u001b[0m\n\u001b[1;32m     19\u001b[0m     \u001b[0;31m# Inverse transform\u001b[0m\u001b[0;34m\u001b[0m\u001b[0;34m\u001b[0m\u001b[0m\n",
      "\u001b[0;31mKeyboardInterrupt\u001b[0m: "
     ]
    }
   ],
   "source": [
    "import time\n",
    "n = df.shape[0]\n",
    "lag = 12\n",
    "start = time.time()\n",
    "n = 100\n",
    "for i in range(0, 100):\n",
    "    data = df[i:i+lag]\n",
    "    flows = data[:, 2]\n",
    "    # Transform the data for prediction\n",
    "    flows = np.asarray(flows)\n",
    "    flows = np.multiply(flows, scale_)\n",
    "    flows = np.reshape(flows, (1, lag, 1))\n",
    "    \n",
    "    # Make the prediction\n",
    "    preds = lstm.predict(flows)\n",
    "    print(preds)\n",
    "    time.sleep(2)\n",
    "    \n",
    "    # Inverse transform\n",
    "    preds = np.divide(preds, scale_)\n",
    "    if i % 10 == 0:\n",
    "        print(\"processed {}\".format(i))\n",
    "#     print(\"Predictions : {}\".format(preds))\n",
    "    \n",
    "    #time.sleep(0.25)\n",
    "end = time.time()\n",
    "print(end-start)"
   ]
  },
  {
   "cell_type": "code",
   "execution_count": 7,
   "metadata": {},
   "outputs": [
    {
     "name": "stdout",
     "output_type": "stream",
     "text": [
      "Tensor(\"lstm_1_input_1:0\", shape=(?, 12, 1), dtype=float32)\n"
     ]
    }
   ],
   "source": [
    "print(lstm.get_layer(\"lstm_1\").input)"
   ]
  },
  {
   "cell_type": "code",
   "execution_count": null,
   "metadata": {},
   "outputs": [],
   "source": [
    "l"
   ]
  }
 ],
 "metadata": {
  "kernelspec": {
   "display_name": "Python 3",
   "language": "python",
   "name": "python3"
  },
  "language_info": {
   "codemirror_mode": {
    "name": "ipython",
    "version": 3
   },
   "file_extension": ".py",
   "mimetype": "text/x-python",
   "name": "python",
   "nbconvert_exporter": "python",
   "pygments_lexer": "ipython3",
   "version": "3.6.6"
  }
 },
 "nbformat": 4,
 "nbformat_minor": 2
}

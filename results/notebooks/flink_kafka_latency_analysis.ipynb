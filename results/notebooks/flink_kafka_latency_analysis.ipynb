{
 "cells": [
  {
   "cell_type": "code",
   "execution_count": 3,
   "metadata": {},
   "outputs": [],
   "source": [
    "import numpy as np\n",
    "import matplotlib.pyplot as plt"
   ]
  },
  {
   "cell_type": "code",
   "execution_count": 4,
   "metadata": {},
   "outputs": [],
   "source": [
    "sleep_filename = '../latencies/flink_kafka_sleep_two_latency.txt'\n",
    "no_sleep_filename = '../latencies/flink_kafka_no_sleep_latency.txt'"
   ]
  },
  {
   "cell_type": "code",
   "execution_count": 11,
   "metadata": {},
   "outputs": [],
   "source": [
    "latencies = np.loadtxt(sleep_filename)"
   ]
  },
  {
   "cell_type": "code",
   "execution_count": 12,
   "metadata": {},
   "outputs": [
    {
     "name": "stdout",
     "output_type": "stream",
     "text": [
      "333935324.27985716\n"
     ]
    }
   ],
   "source": [
    "normalized = (latencies)/2.1\n",
    "print(np.mean(normalized))"
   ]
  },
  {
   "cell_type": "code",
   "execution_count": 13,
   "metadata": {},
   "outputs": [
    {
     "name": "stdout",
     "output_type": "stream",
     "text": [
      "333.9353242798571\n"
     ]
    }
   ],
   "source": [
    "ms = normalized/1e6\n",
    "print(np.mean(ms))"
   ]
  },
  {
   "cell_type": "code",
   "execution_count": 14,
   "metadata": {},
   "outputs": [
    {
     "data": {
      "text/plain": [
       "{'whiskers': [<matplotlib.lines.Line2D at 0x7f56d47cb198>,\n",
       "  <matplotlib.lines.Line2D at 0x7f56d47cb630>],\n",
       " 'caps': [<matplotlib.lines.Line2D at 0x7f56d47cba58>,\n",
       "  <matplotlib.lines.Line2D at 0x7f56d47cbe80>],\n",
       " 'boxes': [<matplotlib.lines.Line2D at 0x7f56d47cb048>],\n",
       " 'medians': [<matplotlib.lines.Line2D at 0x7f56d47d22e8>],\n",
       " 'fliers': [<matplotlib.lines.Line2D at 0x7f56d47d2710>],\n",
       " 'means': []}"
      ]
     },
     "execution_count": 14,
     "metadata": {},
     "output_type": "execute_result"
    },
    {
     "data": {
      "image/png": "[encoded data removed]",
      "text/plain": [
       "<Figure size 432x288 with 1 Axes>"
      ]
     },
     "metadata": {},
     "output_type": "display_data"
    }
   ],
   "source": [
    "plt.boxplot(ms)\n",
    "#plt.ylim(0, 6e3)"
   ]
  },
  {
   "cell_type": "code",
   "execution_count": 25,
   "metadata": {},
   "outputs": [
    {
     "data": {
      "text/plain": [
       "(0, 10000)"
      ]
     },
     "execution_count": 25,
     "metadata": {},
     "output_type": "execute_result"
    },
    {
     "data": {
      "image/png": "[encoded data removed]",
      "text/plain": [
       "<Figure size 432x288 with 1 Axes>"
      ]
     },
     "metadata": {},
     "output_type": "display_data"
    }
   ],
   "source": [
    "plt.scatter(range(latencies.shape[0]), ms)\n",
    "plt.ylim(0, 1e3)\n",
    "plt.xlabel('Sample Number')\n",
    "plt.ylabel('Latency (ms)')\n",
    "plt.xlim(0, 10000)"
   ]
  },
  {
   "cell_type": "code",
   "execution_count": 16,
   "metadata": {},
   "outputs": [
    {
     "name": "stdout",
     "output_type": "stream",
     "text": [
      "102.99597128477133\n"
     ]
    }
   ],
   "source": [
    "diffs = []\n",
    "for i in range(len(latencies)-1):\n",
    "    if latencies[i+1] < latencies[i]:\n",
    "        diffs.append(ms[i] - ms[i+1])\n",
    "    \n",
    "print(np.mean(diffs))"
   ]
  },
  {
   "cell_type": "code",
   "execution_count": 26,
   "metadata": {},
   "outputs": [
    {
     "name": "stdout",
     "output_type": "stream",
     "text": [
      "703.6973819047619\n"
     ]
    }
   ],
   "source": [
    "flat = ms.flatten()\n",
    "flat.sort()\n",
    "print(flat[-1])"
   ]
  },
  {
   "cell_type": "code",
   "execution_count": 10,
   "metadata": {},
   "outputs": [
    {
     "name": "stdout",
     "output_type": "stream",
     "text": [
      "30.0\n"
     ]
    }
   ],
   "source": [
    "def ms_to_us(ms):\n",
    "    return (ms*1e3)\n",
    "\n",
    "print(ms_to_us(30e-3))"
   ]
  },
  {
   "cell_type": "code",
   "execution_count": 24,
   "metadata": {},
   "outputs": [
    {
     "name": "stdout",
     "output_type": "stream",
     "text": [
      "1024438.5698685714\n"
     ]
    }
   ],
   "source": [
    "print(np.max(ms))"
   ]
  },
  {
   "cell_type": "code",
   "execution_count": null,
   "metadata": {},
   "outputs": [],
   "source": []
  }
 ],
 "metadata": {
  "kernelspec": {
   "display_name": "Python 3",
   "language": "python",
   "name": "python3"
  },
  "language_info": {
   "codemirror_mode": {
    "name": "ipython",
    "version": 3
   },
   "file_extension": ".py",
   "mimetype": "text/x-python",
   "name": "python",
   "nbconvert_exporter": "python",
   "pygments_lexer": "ipython3",
   "version": "3.6.6"
  }
 },
 "nbformat": 4,
 "nbformat_minor": 2
}

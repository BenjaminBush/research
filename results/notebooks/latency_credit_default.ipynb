{
 "cells": [
  {
   "cell_type": "code",
   "execution_count": 1,
   "metadata": {},
   "outputs": [],
   "source": [
    "import numpy as np\n",
    "import matplotlib.pyplot as plt"
   ]
  },
  {
   "cell_type": "code",
   "execution_count": 2,
   "metadata": {},
   "outputs": [],
   "source": [
    "scheduler = 'credit'\n",
    "B = '4000'\n",
    "P = '10000'\n",
    "filename = '../latencies/latency_' + scheduler + '_' + 'default' + '.txt'"
   ]
  },
  {
   "cell_type": "code",
   "execution_count": 3,
   "metadata": {},
   "outputs": [],
   "source": [
    "latencies = np.loadtxt(filename)"
   ]
  },
  {
   "cell_type": "code",
   "execution_count": 4,
   "metadata": {},
   "outputs": [
    {
     "name": "stdout",
     "output_type": "stream",
     "text": [
      "757164531.6883333\n"
     ]
    }
   ],
   "source": [
    "ns = 1e9\n",
    "normalized = (latencies)/2.1\n",
    "print(np.mean(normalized))"
   ]
  },
  {
   "cell_type": "code",
   "execution_count": 5,
   "metadata": {},
   "outputs": [
    {
     "name": "stdout",
     "output_type": "stream",
     "text": [
      "757.1645316883332\n"
     ]
    }
   ],
   "source": [
    "ms = normalized/1e6\n",
    "print(np.mean(ms))"
   ]
  },
  {
   "cell_type": "code",
   "execution_count": 6,
   "metadata": {},
   "outputs": [
    {
     "data": {
      "text/plain": [
       "{'whiskers': [<matplotlib.lines.Line2D at 0x7f1241847fd0>,\n",
       "  <matplotlib.lines.Line2D at 0x7f12418554a8>],\n",
       " 'caps': [<matplotlib.lines.Line2D at 0x7f12418558d0>,\n",
       "  <matplotlib.lines.Line2D at 0x7f1241855cf8>],\n",
       " 'boxes': [<matplotlib.lines.Line2D at 0x7f1241847e80>],\n",
       " 'medians': [<matplotlib.lines.Line2D at 0x7f12417e5160>],\n",
       " 'fliers': [<matplotlib.lines.Line2D at 0x7f12417e5588>],\n",
       " 'means': []}"
      ]
     },
     "execution_count": 6,
     "metadata": {},
     "output_type": "execute_result"
    },
    {
     "data": {
      "image/png": "[encoded data removed]",
      "text/plain": [
       "<Figure size 432x288 with 1 Axes>"
      ]
     },
     "metadata": {},
     "output_type": "display_data"
    }
   ],
   "source": [
    "plt.boxplot(normalized)\n",
    "#plt.ylim([1e8, 2e8])"
   ]
  },
  {
   "cell_type": "code",
   "execution_count": 7,
   "metadata": {},
   "outputs": [
    {
     "name": "stdout",
     "output_type": "stream",
     "text": [
      "2000\n"
     ]
    }
   ],
   "source": [
    "threshold = 1.8e8\n",
    "where = np.where(normalized > threshold)\n",
    "print(len(where[0]))"
   ]
  },
  {
   "cell_type": "code",
   "execution_count": 8,
   "metadata": {},
   "outputs": [
    {
     "name": "stdout",
     "output_type": "stream",
     "text": [
      "754.4493604761903\n"
     ]
    }
   ],
   "source": [
    "print(np.median(ms))"
   ]
  },
  {
   "cell_type": "code",
   "execution_count": null,
   "metadata": {},
   "outputs": [],
   "source": []
  }
 ],
 "metadata": {
  "kernelspec": {
   "display_name": "Python 3",
   "language": "python",
   "name": "python3"
  },
  "language_info": {
   "codemirror_mode": {
    "name": "ipython",
    "version": 3
   },
   "file_extension": ".py",
   "mimetype": "text/x-python",
   "name": "python",
   "nbconvert_exporter": "python",
   "pygments_lexer": "ipython3",
   "version": "3.6.6"
  }
 },
 "nbformat": 4,
 "nbformat_minor": 2
}

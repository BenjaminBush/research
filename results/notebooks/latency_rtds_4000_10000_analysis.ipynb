{
 "cells": [
  {
   "cell_type": "code",
   "execution_count": 10,
   "metadata": {},
   "outputs": [],
   "source": [
    "import numpy as np\n",
    "import matplotlib.pyplot as plt"
   ]
  },
  {
   "cell_type": "code",
   "execution_count": 11,
   "metadata": {},
   "outputs": [],
   "source": [
    "scheduler = 'rtds'\n",
    "B = '4000'\n",
    "P = '10000'\n",
    "filename = '../latencies/latency_' + scheduler + '_' + B + '_' + P + '.txt'"
   ]
  },
  {
   "cell_type": "code",
   "execution_count": 12,
   "metadata": {},
   "outputs": [],
   "source": [
    "latencies = np.loadtxt(filename)"
   ]
  },
  {
   "cell_type": "code",
   "execution_count": 13,
   "metadata": {},
   "outputs": [
    {
     "name": "stdout",
     "output_type": "stream",
     "text": [
      "699786056.8640476\n"
     ]
    }
   ],
   "source": [
    "ns = 1e9\n",
    "normalized = (latencies)/2.1\n",
    "print(np.mean(normalized))"
   ]
  },
  {
   "cell_type": "code",
   "execution_count": 14,
   "metadata": {},
   "outputs": [
    {
     "name": "stdout",
     "output_type": "stream",
     "text": [
      "699.7860568640475\n"
     ]
    }
   ],
   "source": [
    "ms = normalized/1e6\n",
    "print(np.mean(ms))"
   ]
  },
  {
   "cell_type": "code",
   "execution_count": 15,
   "metadata": {},
   "outputs": [
    {
     "data": {
      "text/plain": [
       "Text(0.5,1,'RTDS B=3000 P=10000')"
      ]
     },
     "execution_count": 15,
     "metadata": {},
     "output_type": "execute_result"
    },
    {
     "data": {
      "image/png": "[encoded data removed]",
      "text/plain": [
       "<Figure size 432x288 with 1 Axes>"
      ]
     },
     "metadata": {},
     "output_type": "display_data"
    }
   ],
   "source": [
    "plt.boxplot(ms)\n",
    "plt.ylabel('Latency (ms)')\n",
    "plt.title('RTDS B=3000 P=10000')"
   ]
  },
  {
   "cell_type": "code",
   "execution_count": 16,
   "metadata": {},
   "outputs": [
    {
     "name": "stdout",
     "output_type": "stream",
     "text": [
      "1994\n"
     ]
    }
   ],
   "source": [
    "threshold = 1.8e8\n",
    "where = np.where(normalized > threshold)\n",
    "print(len(where[0]))"
   ]
  },
  {
   "cell_type": "code",
   "execution_count": 17,
   "metadata": {},
   "outputs": [
    {
     "name": "stdout",
     "output_type": "stream",
     "text": [
      "691.7838935714285\n"
     ]
    }
   ],
   "source": [
    "print(np.median(ms))"
   ]
  },
  {
   "cell_type": "code",
   "execution_count": 18,
   "metadata": {},
   "outputs": [
    {
     "data": {
      "text/plain": [
       "Text(0,0.5,'Latency (ms)')"
      ]
     },
     "execution_count": 18,
     "metadata": {},
     "output_type": "execute_result"
    },
    {
     "data": {
      "image/png": "[encoded data removed]",
      "text/plain": [
       "<Figure size 432x288 with 1 Axes>"
      ]
     },
     "metadata": {},
     "output_type": "display_data"
    }
   ],
   "source": [
    "plt.scatter(range(latencies.shape[0]), ms)\n",
    "plt.xlabel('Prediction Number')\n",
    "plt.ylabel('Latency (ms)')"
   ]
  },
  {
   "cell_type": "code",
   "execution_count": 19,
   "metadata": {},
   "outputs": [
    {
     "name": "stdout",
     "output_type": "stream",
     "text": [
      "1142.8080990476187\n"
     ]
    }
   ],
   "source": [
    "print(np.max(ms)-np.min(ms))"
   ]
  },
  {
   "cell_type": "code",
   "execution_count": 20,
   "metadata": {},
   "outputs": [
    {
     "name": "stdout",
     "output_type": "stream",
     "text": [
      "77.9117138095238\n"
     ]
    }
   ],
   "source": [
    "print(np.min(ms))"
   ]
  },
  {
   "cell_type": "code",
   "execution_count": 28,
   "metadata": {},
   "outputs": [],
   "source": [
    "def longest_decreasing_sublist(a):\n",
    "  lds, current = [], [a[0]]\n",
    "  for val in a[1:]:\n",
    "    if val < current[-1]: current.append(val)\n",
    "    else:\n",
    "      lds = current[:] if len(current) > len(lds) else lds\n",
    "      current = [val]\n",
    "  lds = current[:] if len(current) > len(lds) else lds\n",
    "  return lds\n",
    "\n",
    "lds = longest_decreasing_sublist(ms)"
   ]
  },
  {
   "cell_type": "code",
   "execution_count": 33,
   "metadata": {},
   "outputs": [
    {
     "data": {
      "text/plain": [
       "LinregressResult(slope=-2.2995694947797305, intercept=470.8295191428571, rvalue=-0.9986780393196513, pvalue=7.904882570125919e-43, stderr=0.020923134122394937)"
      ]
     },
     "execution_count": 33,
     "metadata": {},
     "output_type": "execute_result"
    },
    {
     "data": {
      "image/png": "[encoded data removed]",
      "text/plain": [
       "<Figure size 432x288 with 1 Axes>"
      ]
     },
     "metadata": {},
     "output_type": "display_data"
    }
   ],
   "source": [
    "x = range(len(lds))\n",
    "y = lds\n",
    "plt.scatter(x, y)\n",
    "from scipy.stats import linregress\n",
    "linregress(x, y)"
   ]
  },
  {
   "cell_type": "code",
   "execution_count": null,
   "metadata": {},
   "outputs": [],
   "source": []
  }
 ],
 "metadata": {
  "kernelspec": {
   "display_name": "Python 3",
   "language": "python",
   "name": "python3"
  },
  "language_info": {
   "codemirror_mode": {
    "name": "ipython",
    "version": 3
   },
   "file_extension": ".py",
   "mimetype": "text/x-python",
   "name": "python",
   "nbconvert_exporter": "python",
   "pygments_lexer": "ipython3",
   "version": "3.6.6"
  }
 },
 "nbformat": 4,
 "nbformat_minor": 2
}

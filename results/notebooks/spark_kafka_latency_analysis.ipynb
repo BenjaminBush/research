{
 "cells": [
  {
   "cell_type": "code",
   "execution_count": 1,
   "metadata": {},
   "outputs": [],
   "source": [
    "import numpy as np\n",
    "import matplotlib.pyplot as plt"
   ]
  },
  {
   "cell_type": "code",
   "execution_count": 2,
   "metadata": {},
   "outputs": [],
   "source": [
    "sleep_filename = '../latencies/spark_kafka_sleep_two_latency.txt'\n",
    "no_sleep_filename = '../latencies/spark_kafka_no_sleep_latency.txt'"
   ]
  },
  {
   "cell_type": "code",
   "execution_count": 3,
   "metadata": {},
   "outputs": [],
   "source": [
    "latencies = np.loadtxt(sleep_filename)"
   ]
  },
  {
   "cell_type": "code",
   "execution_count": 4,
   "metadata": {},
   "outputs": [
    {
     "name": "stdout",
     "output_type": "stream",
     "text": [
      "1668357900.380262\n"
     ]
    }
   ],
   "source": [
    "normalized = (latencies)/2.1\n",
    "print(np.mean(normalized))"
   ]
  },
  {
   "cell_type": "code",
   "execution_count": 5,
   "metadata": {},
   "outputs": [
    {
     "name": "stdout",
     "output_type": "stream",
     "text": [
      "1668.3579003802615\n"
     ]
    }
   ],
   "source": [
    "ms = normalized/1e6\n",
    "print(np.mean(ms))"
   ]
  },
  {
   "cell_type": "code",
   "execution_count": 6,
   "metadata": {},
   "outputs": [
    {
     "data": {
      "text/plain": [
       "{'whiskers': [<matplotlib.lines.Line2D at 0x7f8d3cd66be0>,\n",
       "  <matplotlib.lines.Line2D at 0x7f8d3cd770b8>],\n",
       " 'caps': [<matplotlib.lines.Line2D at 0x7f8d3cd774e0>,\n",
       "  <matplotlib.lines.Line2D at 0x7f8d3cd77908>],\n",
       " 'boxes': [<matplotlib.lines.Line2D at 0x7f8d3cd66a90>],\n",
       " 'medians': [<matplotlib.lines.Line2D at 0x7f8d3cd77d30>],\n",
       " 'fliers': [<matplotlib.lines.Line2D at 0x7f8d3cd7f198>],\n",
       " 'means': []}"
      ]
     },
     "execution_count": 6,
     "metadata": {},
     "output_type": "execute_result"
    },
    {
     "data": {
      "image/png": "[encoded data removed]",
      "text/plain": [
       "<Figure size 432x288 with 1 Axes>"
      ]
     },
     "metadata": {},
     "output_type": "display_data"
    }
   ],
   "source": [
    "plt.boxplot(ms)\n",
    "#plt.ylim(0, 6e3)"
   ]
  },
  {
   "cell_type": "code",
   "execution_count": 8,
   "metadata": {},
   "outputs": [
    {
     "data": {
      "text/plain": [
       "Text(0,0.5,'Latency (ms)')"
      ]
     },
     "execution_count": 8,
     "metadata": {},
     "output_type": "execute_result"
    },
    {
     "data": {
      "image/png": "[encoded data removed]",
      "text/plain": [
       "<Figure size 432x288 with 1 Axes>"
      ]
     },
     "metadata": {},
     "output_type": "display_data"
    }
   ],
   "source": [
    "plt.scatter(range(latencies.shape[0]), ms)\n",
    "#plt.ylim(0, 1e3)\n",
    "plt.xlabel('Sample Number')\n",
    "plt.ylabel('Latency (ms)')"
   ]
  },
  {
   "cell_type": "code",
   "execution_count": 16,
   "metadata": {},
   "outputs": [
    {
     "name": "stdout",
     "output_type": "stream",
     "text": [
      "102.99597128477133\n"
     ]
    }
   ],
   "source": [
    "diffs = []\n",
    "for i in range(len(latencies)-1):\n",
    "    if latencies[i+1] < latencies[i]:\n",
    "        diffs.append(ms[i] - ms[i+1])\n",
    "    \n",
    "print(np.mean(diffs))"
   ]
  },
  {
   "cell_type": "code",
   "execution_count": 25,
   "metadata": {},
   "outputs": [
    {
     "name": "stdout",
     "output_type": "stream",
     "text": [
      "4194.648258095238\n"
     ]
    }
   ],
   "source": [
    "flat = ms.flatten()\n",
    "flat.sort()\n",
    "print(flat[-6])"
   ]
  },
  {
   "cell_type": "code",
   "execution_count": 10,
   "metadata": {},
   "outputs": [
    {
     "name": "stdout",
     "output_type": "stream",
     "text": [
      "30.0\n"
     ]
    }
   ],
   "source": [
    "def ms_to_us(ms):\n",
    "    return (ms*1e3)\n",
    "\n",
    "print(ms_to_us(30e-3))"
   ]
  },
  {
   "cell_type": "code",
   "execution_count": 24,
   "metadata": {},
   "outputs": [
    {
     "name": "stdout",
     "output_type": "stream",
     "text": [
      "1024438.5698685714\n"
     ]
    }
   ],
   "source": [
    "print(np.max(ms))"
   ]
  },
  {
   "cell_type": "code",
   "execution_count": null,
   "metadata": {},
   "outputs": [],
   "source": []
  }
 ],
 "metadata": {
  "kernelspec": {
   "display_name": "Python 3",
   "language": "python",
   "name": "python3"
  },
  "language_info": {
   "codemirror_mode": {
    "name": "ipython",
    "version": 3
   },
   "file_extension": ".py",
   "mimetype": "text/x-python",
   "name": "python",
   "nbconvert_exporter": "python",
   "pygments_lexer": "ipython3",
   "version": "3.6.6"
  }
 },
 "nbformat": 4,
 "nbformat_minor": 2
}
